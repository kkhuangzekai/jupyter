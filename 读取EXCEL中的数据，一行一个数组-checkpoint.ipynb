{
 "cells": [
  {
   "cell_type": "code",
   "execution_count": 108,
   "metadata": {},
   "outputs": [
    {
     "name": "stdout",
     "output_type": "stream",
     "text": [
      "All sheets: %s’%xlsx.sheet_names\n",
      "Sheet1 Name: Sheet1 Sheet1 cols: 40 Sheet1 rows: 1502’\n",
      "===================================\n"
     ]
    },
    {
     "ename": "NameError",
     "evalue": "name 'lineArr' is not defined",
     "output_type": "error",
     "traceback": [
      "\u001b[1;31m---------------------------------------------------------------------------\u001b[0m",
      "\u001b[1;31mNameError\u001b[0m                                 Traceback (most recent call last)",
      "\u001b[1;32m<ipython-input-108-c4de65a6e13c>\u001b[0m in \u001b[0;36m<module>\u001b[1;34m\u001b[0m\n\u001b[0;32m     30\u001b[0m \u001b[1;32mfor\u001b[0m \u001b[0mi\u001b[0m \u001b[1;32min\u001b[0m \u001b[0mrange\u001b[0m\u001b[1;33m(\u001b[0m\u001b[0msheet1_nrows\u001b[0m\u001b[1;33m)\u001b[0m\u001b[1;33m:\u001b[0m \u001b[1;31m# 逐行打印sheet1数据\u001b[0m\u001b[1;33m\u001b[0m\u001b[1;33m\u001b[0m\u001b[0m\n\u001b[0;32m     31\u001b[0m \u001b[1;33m\u001b[0m\u001b[0m\n\u001b[1;32m---> 32\u001b[1;33m  \u001b[0mdataMat\u001b[0m\u001b[1;33m.\u001b[0m\u001b[0mappend\u001b[0m\u001b[1;33m(\u001b[0m\u001b[0mfloat\u001b[0m\u001b[1;33m(\u001b[0m\u001b[0mlineArr\u001b[0m\u001b[1;33m[\u001b[0m\u001b[0mi\u001b[0m\u001b[1;33m]\u001b[0m\u001b[1;33m)\u001b[0m\u001b[1;33m)\u001b[0m\u001b[1;33m\u001b[0m\u001b[1;33m\u001b[0m\u001b[0m\n\u001b[0m\u001b[0;32m     33\u001b[0m \u001b[0mlineArr\u001b[0m\u001b[1;33m[\u001b[0m\u001b[0mi\u001b[0m\u001b[1;33m]\u001b[0m\u001b[1;33m=\u001b[0m\u001b[0msheet1\u001b[0m\u001b[1;33m.\u001b[0m\u001b[0mrow_values\u001b[0m\u001b[1;33m(\u001b[0m\u001b[0mi\u001b[0m\u001b[1;33m)\u001b[0m\u001b[1;33m\u001b[0m\u001b[1;33m\u001b[0m\u001b[0m\n\u001b[0;32m     34\u001b[0m \u001b[1;31m#dataMat= sheet1.row_values(i)\u001b[0m\u001b[1;33m\u001b[0m\u001b[1;33m\u001b[0m\u001b[1;33m\u001b[0m\u001b[0m\n",
      "\u001b[1;31mNameError\u001b[0m: name 'lineArr' is not defined"
     ]
    }
   ],
   "source": [
    "import xlrd # 导入库\n",
    "from numpy import *\n",
    "import matplotlib as mpls\n",
    "import sys\n",
    "import matplotlib.pyplot as plt\n",
    "from matplotlib.patches import Circle\n",
    "import numpy as np\n",
    "# 打开文件\n",
    "xlsx = xlrd.open_workbook(\"C://Users/Administrator/Desktop/python/红霞种植6个月.xlsx\")\n",
    "print (\"All sheets: %s’%xlsx.sheet_names\")\n",
    "sheet1 = xlsx.sheets()[0] #获得第一张sheet，索引从0开始\n",
    "\n",
    "sheet1_name = sheet1.name # 获得名称\n",
    "\n",
    "sheet1_cols = sheet1.ncols # 获得列数\n",
    "\n",
    "sheet1_nrows = sheet1.nrows # 获得行数\n",
    "\n",
    "print ((\"Sheet1 Name: %s Sheet1 cols: %s Sheet1 rows: %s’\")%(sheet1_name, sheet1_cols, sheet1_nrows))\n",
    "\n",
    "print (\"===================================\") # 内容分割线\n",
    "sheet1 = xlsx.sheets()[0] #获得第一张sheet，索引从0开始\n",
    "\n",
    "sheet1_name = sheet1.name # 获得名称\n",
    "\n",
    "sheet1_cols = sheet1.ncols # 获得列数\n",
    "\n",
    "sheet1_nrows = sheet1.nrows # 获得行数\n",
    "dataMat = []; labelMat = [];\n",
    "for i in range(sheet1_nrows): # 逐行打印sheet1数据\n",
    " \n",
    " dataMat.append(float(lineArr[i]))\n",
    "lineArr[i]=sheet1.row_values(i) \n",
    "#dataMat= sheet1.row_values(i) \n",
    "#for line in fr.readlines():\n",
    "#lineArr = line.strip().split('\\t')\n",
    " #dataMat.append(float（sheet1.row_values(i)）\n",
    "\n"
   ]
  },
  {
   "cell_type": "code",
   "execution_count": 74,
   "metadata": {},
   "outputs": [
    {
     "name": "stdout",
     "output_type": "stream",
     "text": [
      "[]\n"
     ]
    }
   ],
   "source": [
    "print (dataMat)\n",
    "#转置矩阵到多维\n",
    "#np.array(dataMat).reshape(20,2)"
   ]
  },
  {
   "cell_type": "code",
   "execution_count": null,
   "metadata": {},
   "outputs": [],
   "source": []
  }
 ],
 "metadata": {
  "kernelspec": {
   "display_name": "Python 3",
   "language": "python",
   "name": "python3"
  },
  "language_info": {
   "codemirror_mode": {
    "name": "ipython",
    "version": 3
   },
   "file_extension": ".py",
   "mimetype": "text/x-python",
   "name": "python",
   "nbconvert_exporter": "python",
   "pygments_lexer": "ipython3",
   "version": "3.8.5"
  }
 },
 "nbformat": 4,
 "nbformat_minor": 4
}
