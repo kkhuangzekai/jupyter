{
 "cells": [
  {
   "cell_type": "markdown",
   "metadata": {},
   "source": [
    "### Sklearn实现SVM"
   ]
  },
  {
   "cell_type": "code",
   "execution_count": 14,
   "metadata": {},
   "outputs": [
    {
     "data": {
      "text/plain": [
       "<module 'sys' (built-in)>"
      ]
     },
     "execution_count": 14,
     "metadata": {},
     "output_type": "execute_result"
    }
   ],
   "source": [
    "import numpy as np\n",
    "from sklearn.svm import LinearSVC\n",
    "import matplotlib.pyplot as plt\n",
    "import matplotlib as mpl\n",
    "from sklearn.decomposition import PCA\n",
    "from sklearn.linear_model import LogisticRegression\n",
    "from sklearn.neighbors import KNeighborsClassifier\n",
    "from sklearn.naive_bayes import GaussianNB\n",
    "from sklearn.ensemble import RandomForestClassifier\n",
    "from mlxtend.classifier import StackingClassifier\n",
    "from sklearn.metrics import accuracy_score\n",
    "from sklearn.model_selection import train_test_split\n",
    "import numpy as np\n",
    "import pandas as pd\n",
    "\n",
    "from sklearn import datasets, linear_model\n",
    "\n",
    "from sklearn.model_selection import train_test_split\n",
    "from sklearn.decomposition import PCA\n",
    "from matplotlib import pyplot as plt\n",
    "import numpy as np\n",
    "from sklearn.svm import SVC\n",
    "import matplotlib.pyplot as plt\n",
    "import matplotlib as mpl\n",
    "from matplotlib.patches import Circle\n",
    "import xlrd # 导入库\n",
    "from numpy import *\n",
    "import matplotlib as mpls\n",
    "import sys\n",
    "import matplotlib.pyplot as plt\n",
    "from matplotlib.patches import Circle\n",
    "import numpy as np\n",
    "import importlib\n",
    "importlib.reload(sys) "
   ]
  },
  {
   "cell_type": "code",
   "execution_count": 15,
   "metadata": {},
   "outputs": [
    {
     "name": "stdout",
     "output_type": "stream",
     "text": [
      "All sheets: %s’%xlsx.sheet_names\n",
      "Sheet1 Name: dayuanye Sheet1 cols: 60 Sheet1 rows: 1501’\n",
      "===================================\n"
     ]
    }
   ],
   "source": [
    "\n",
    "# 打开文件\n",
    "xlsx = xlrd.open_workbook(\"C://Users/Administrator/Desktop/python/数据集合.xls\")\n",
    "print (\"All sheets: %s’%xlsx.sheet_names\")\n",
    "sheet1 = xlsx.sheets()[0] #获得第一张sheet，索引从0开始\n",
    "\n",
    "sheet1_name = sheet1.name # 获得名称\n",
    "\n",
    "sheet1_cols = sheet1.ncols # 获得列数\n",
    "\n",
    "sheet1_nrows = sheet1.nrows # 获得行数\n",
    "\n",
    "print ((\"Sheet1 Name: %s Sheet1 cols: %s Sheet1 rows: %s’\")%(sheet1_name, sheet1_cols, sheet1_nrows))\n",
    "\n",
    "print (\"===================================\") # 内容分割线\n",
    "sheet1 = xlsx.sheets()[0] #获得第一张sheet，索引从0开始\n",
    "\n",
    "sheet1_name = sheet1.name # 获得名称\n",
    "\n",
    "sheet1_cols = sheet1.ncols # 获得列数\n",
    "\n",
    "sheet1_nrows = sheet1.nrows # 获得行数\n",
    "dataMat = []\n",
    "labelMat = []\n",
    "c=10\n",
    "#for i in range(sheet1_nrows-1): # 逐行打印sheet1数据\n",
    " #dataMat= np.array(sheet1.row_values(c))\n",
    "\n",
    "#labelMat=dataMat\n",
    "#print(\"标签=\",labelMat)\n",
    "for i in range(sheet1_cols): # 逐列打印sheet1数据\n",
    " dataMat.append(sheet1.col_values(i))\n",
    "np.array(dataMat)\n",
    "#print(dataMat)\n",
    "#s= np.array(sheet1.row_values(c))\n",
    "for i in range(20):\n",
    " labelMat.append(1)\n",
    "for i in range(20):\n",
    " labelMat.append(0)\n",
    "for i in range(20):\n",
    " labelMat.append(-1)\n",
    "\n",
    "#print(\"标签=\",labelMat)"
   ]
  },
  {
   "cell_type": "code",
   "execution_count": 16,
   "metadata": {},
   "outputs": [
    {
     "name": "stdout",
     "output_type": "stream",
     "text": [
      "[0.96688529 0.02746311 0.0044755 ]\n",
      "降维后的数据:\n",
      "[[ 1.08990557e+00 -2.86292753e-01  2.82240370e-02]\n",
      " [ 9.17619070e-01 -3.03944380e-01 -1.49874986e-02]\n",
      " [ 7.49189372e-01 -4.44219679e-01 -6.59043774e-02]\n",
      " [ 8.44699415e-01 -3.91291912e-01 -7.43949678e-03]\n",
      " [ 2.10370721e+00 -2.31711845e-01 -2.53099728e-02]\n",
      " [ 5.68295637e+00 -6.48067153e-02  2.12924907e-01]\n",
      " [ 1.03875131e+00 -4.39408445e-01 -4.27834016e-02]\n",
      " [ 1.29310472e+00 -2.95121355e-01 -3.09319972e-02]\n",
      " [ 5.67089701e-01 -1.58923024e-01  6.62879148e-02]\n",
      " [ 7.73211712e-01 -3.58386921e-01 -3.28394714e-02]\n",
      " [ 5.49018449e-01 -3.71147894e-01 -4.83298565e-02]\n",
      " [ 6.37776670e-02 -7.59251427e-02  1.18327143e-01]\n",
      " [ 3.62417696e-01 -4.10562848e-01 -8.57945701e-02]\n",
      " [-1.79347464e-01 -1.74599531e-01  2.76223854e-02]\n",
      " [ 3.45626920e-01 -2.80770733e-01 -3.16902312e-02]\n",
      " [ 4.41052785e-01 -2.17894363e-01  3.43584232e-02]\n",
      " [ 6.48585812e-01 -3.38424454e-01 -3.26789969e-02]\n",
      " [ 7.62061914e-01 -3.61966176e-01 -2.68932067e-02]\n",
      " [ 5.36865409e-01 -5.64212060e-01 -1.42165742e-01]\n",
      " [ 4.31740180e-01 -6.19421548e-01 -2.02236157e-01]\n",
      " [ 3.92472908e+00  3.28759794e-01 -6.82990737e-02]\n",
      " [ 2.56478614e+00  6.27093366e-01 -9.19048325e-02]\n",
      " [-6.29017118e-01  3.55564352e-01 -1.30558037e-01]\n",
      " [-1.21819766e+00  4.39635283e-01 -8.17050450e-02]\n",
      " [ 9.53667454e+00  4.04059653e-02  9.16071111e-02]\n",
      " [-1.52380952e+00  5.17821352e-01 -1.24195628e-02]\n",
      " [-1.42028521e+00  2.07504851e-01 -2.29382923e-01]\n",
      " [ 2.08033548e+00  4.25689919e-01 -2.44718116e-02]\n",
      " [-1.23191045e+00  4.13904744e-01 -1.19609713e-01]\n",
      " [-4.12134530e-01  1.09591746e-01 -2.43579442e-01]\n",
      " [-3.98108941e-01  6.33634922e-01 -6.08331858e-04]\n",
      " [-2.98770741e-01  3.06444014e-01 -1.42123678e-01]\n",
      " [-7.39160815e-01  5.00803431e-01 -5.30620460e-02]\n",
      " [-1.40553921e+00  2.50125703e-01 -1.91493796e-01]\n",
      " [-1.40150996e+00  2.31061699e-01 -2.15019006e-01]\n",
      " [ 3.74880445e+00  7.95879074e-01  3.05928786e-02]\n",
      " [-5.95794764e-01  3.01520588e-01 -1.08522304e-01]\n",
      " [-4.25686502e-01  3.69133611e-01 -1.82954809e-01]\n",
      " [ 2.05226459e-02  3.75504205e-01 -9.40724078e-02]\n",
      " [-8.22533076e-01  3.05718323e-01 -1.85907730e-01]\n",
      " [-1.03245403e+00  8.32374995e-03  1.62974799e-01]\n",
      " [-1.21148055e+00  7.40173291e-02  1.97838603e-01]\n",
      " [-1.25025871e+00  1.11280788e-01  2.42155024e-01]\n",
      " [-1.25806304e+00  1.22185819e-01  2.67461519e-01]\n",
      " [-1.86655884e+00 -3.16464746e-01 -4.67662574e-02]\n",
      " [-1.56777683e+00 -5.11097024e-02  1.27402063e-01]\n",
      " [-1.79863206e+00 -2.99646233e-01 -3.35360824e-02]\n",
      " [-1.43346787e+00 -1.95999931e-01  6.64820590e-02]\n",
      " [-8.27875769e-01  2.69810491e-01  3.16712310e-01]\n",
      " [-2.66431055e+00  2.39328111e-01  2.55758945e-01]\n",
      " [-1.99489735e+00 -2.82563927e-01 -5.71307006e-02]\n",
      " [-7.54370299e-01  1.47374438e-01  2.53501693e-01]\n",
      " [-1.65736981e+00 -9.32139088e-02  9.07018257e-02]\n",
      " [-1.49667616e+00 -8.96181707e-02  1.05677222e-01]\n",
      " [-1.07791239e+00  7.07377185e-02  2.20645029e-01]\n",
      " [-1.29601253e+00 -3.30793730e-01 -7.94785748e-02]\n",
      " [-1.40564534e+00  1.24196088e-02  1.21980778e-01]\n",
      " [-1.20341515e+00 -1.52248876e-01  7.57192089e-02]\n",
      " [-9.71899201e-01 -1.63315369e-02  1.36503912e-01]\n",
      " [-1.60635117e+00 -3.74252452e-01 -6.88686511e-02]]\n",
      "还原的数据：\n",
      "[[0.37734476 0.37683826 0.37661438 ... 0.86012514 0.86004768 0.85995038]\n",
      " [0.37179086 0.37127252 0.37103618 ... 0.85522637 0.85513326 0.85502709]\n",
      " [0.36366796 0.36314067 0.36289285 ... 0.85737534 0.85728453 0.85718925]\n",
      " ...\n",
      " [0.32795696 0.32744172 0.32719483 ... 0.80302786 0.80297832 0.80289643]\n",
      " [0.33773337 0.33723028 0.33699823 ... 0.80303133 0.80298424 0.80289475]\n",
      " [0.31016174 0.30961458 0.30933211 ... 0.80027095 0.80019574 0.80011193]]\n"
     ]
    }
   ],
   "source": [
    "X=dataMat\n",
    "y=labelMat\n",
    "pca = PCA(n_components=3)\n",
    "newX = pca.fit_transform(X)\n",
    "print(pca.explained_variance_ratio_)\n",
    "print('降维后的数据:')\n",
    "print(newX)\n",
    "Y = pca.inverse_transform(newX)   \n",
    "print('还原的数据：')\n",
    "print(Y)"
   ]
  },
  {
   "cell_type": "code",
   "execution_count": 18,
   "metadata": {},
   "outputs": [
    {
     "name": "stderr",
     "output_type": "stream",
     "text": [
      "E:\\Anaconda\\lib\\site-packages\\sklearn\\svm\\_base.py:976: ConvergenceWarning: Liblinear failed to converge, increase the number of iterations.\n",
      "  warnings.warn(\"Liblinear failed to converge, increase \"\n"
     ]
    },
    {
     "data": {
      "text/plain": [
       "LinearSVC(C=1)"
      ]
     },
     "execution_count": 18,
     "metadata": {},
     "output_type": "execute_result"
    }
   ],
   "source": [
    "model = LinearSVC(C=1)\n",
    "model.fit(Y,y)\n"
   ]
  },
  {
   "cell_type": "code",
   "execution_count": null,
   "metadata": {},
   "outputs": [],
   "source": [
    "b=model.intercept_\n",
    "w = model.coef_\n",
    "print('b=',b)\n",
    "print('w=',w)"
   ]
  },
  {
   "cell_type": "markdown",
   "metadata": {},
   "source": [
    "### 画图"
   ]
  },
  {
   "cell_type": "code",
   "execution_count": null,
   "metadata": {},
   "outputs": [],
   "source": [
    "fig = plt.figure()\n",
    "ax = fig.add_subplot(111)\n",
    "cm_dark = mpl.colors.ListedColormap(['g', 'r'])\n",
    "ax.scatter(np.array(X)[:,0],np.array(X)[:,1],c=np.array(y).squeeze(),cmap=cm_dark,s=30)\n",
    "#画决策平面\n",
    "x0 = np.arange(-2.0, 12.0, 0.1)\n",
    "x1 = (-w[0][0]*x0 - b)/w[0][1]\n",
    "ax.plot(x0,x1.reshape(-1,1))\n",
    "\n",
    "#画间隔平面\n",
    "pos0 = np.arange(-2.0, 12.0, 0.1)\n",
    "pos1 = (1-w[0][0]*pos0 - b)/w[0][1]\n",
    "ax.plot(pos0,pos1.reshape(-1,1),color=\"green\")\n",
    "\n",
    "neg0 = np.arange(-2.0, 12.0, 0.1)\n",
    "neg1 = (-1-w[0][0]*neg0 - b)/w[0][1]\n",
    "ax.plot(neg0,neg1.reshape(-1,1),color=\"green\")\n",
    "\n",
    "ax.axis([-2,12,-8,6])\n",
    "plt.show()"
   ]
  },
  {
   "cell_type": "code",
   "execution_count": null,
   "metadata": {},
   "outputs": [],
   "source": []
  }
 ],
 "metadata": {
  "kernelspec": {
   "display_name": "Python 3",
   "language": "python",
   "name": "python3"
  },
  "language_info": {
   "codemirror_mode": {
    "name": "ipython",
    "version": 3
   },
   "file_extension": ".py",
   "mimetype": "text/x-python",
   "name": "python",
   "nbconvert_exporter": "python",
   "pygments_lexer": "ipython3",
   "version": "3.8.5"
  }
 },
 "nbformat": 4,
 "nbformat_minor": 2
}
