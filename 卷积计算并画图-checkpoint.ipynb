{
 "cells": [
  {
   "cell_type": "code",
   "execution_count": 8,
   "metadata": {},
   "outputs": [
    {
     "data": {
      "text/plain": [
       "array([ 0.3415,  1.2745,  2.366 ,  3.366 ,  4.366 ,  5.366 ,  6.366 ,\n",
       "        7.366 ,  5.2925,  0.6275, -0.732 ])"
      ]
     },
     "execution_count": 8,
     "metadata": {},
     "output_type": "execute_result"
    }
   ],
   "source": [
    "#cmd -> ipython notebook\n",
    "#list和nparry都是单元数据，不能被直接plt。\n",
    "#matplotlib inline\n",
    "import numpy as np\n",
    "import matplotlib.pyplot as plt\n",
    "#plt.plot([1,2,3,4])\n",
    "#plt.plot([2,3])\n",
    "h=[0.3127,0.7540,0.5438,-0.1089,-0.1493,0.0619]\n",
    "k=[-0.7540,0.5438,0.1089,-0.1493, -0.0619]\n",
    "x=[1, 2 , 3 , 4 , 5 , 6 , 7 , 8]\n",
    "h0=[0.3415,0.5915 ,0.1585 ,-0.0915]\n",
    "\n",
    "end=np.convolve(x,h0,'full')\n",
    "#plt.plot(end)\n",
    "r=end\n",
    "r2=[-0.2357758 , 0.39846974,  0.03405303,  -0.41325353, -0.01935613,\n",
    "       0.26758309,  0.        ,  -0.03577231,  0.        , 0.00383161]\n",
    "#new=r+r2\n",
    "#plt.plot(new)\n",
    "end"
   ]
  },
  {
   "cell_type": "code",
   "execution_count": 6,
   "metadata": {},
   "outputs": [
    {
     "data": {
      "text/plain": [
       "array([-0.03124725,  0.05412775, -0.01449175,  0.49163325,  1.        ,\n",
       "        1.009011  ,  3.433     ,  3.990989  ,  3.        ,  4.29957275,\n",
       "        2.61494775,  0.37116625,  0.21429125,  0.        ])"
      ]
     },
     "execution_count": 6,
     "metadata": {},
     "output_type": "execute_result"
    }
   ],
   "source": [
    "g=[-0.0915 ,0.1585, 0.5915, 0.3415]\n",
    "\n",
    "l0=[ 0.3415,  0,  2.366 ,  0 , 4.3660 ,  5.366 ,0 ,\n",
    "        7.366 , 0,  0.6275, 0]\n",
    "kk=np.convolve(g,l0,'full')\n",
    "kk"
   ]
  }
 ],
 "metadata": {
  "kernelspec": {
   "display_name": "Python 3",
   "language": "python",
   "name": "python3"
  },
  "language_info": {
   "codemirror_mode": {
    "name": "ipython",
    "version": 3
   },
   "file_extension": ".py",
   "mimetype": "text/x-python",
   "name": "python",
   "nbconvert_exporter": "python",
   "pygments_lexer": "ipython3",
   "version": "3.7.7"
  }
 },
 "nbformat": 4,
 "nbformat_minor": 4
}
