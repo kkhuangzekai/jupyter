{
 "cells": [
  {
   "cell_type": "code",
   "execution_count": 1,
   "metadata": {},
   "outputs": [
    {
     "name": "stdout",
     "output_type": "stream",
     "text": [
      "467\n"
     ]
    },
    {
     "data": {
      "text/plain": [
       "9"
      ]
     },
     "execution_count": 1,
     "metadata": {},
     "output_type": "execute_result"
    }
   ],
   "source": [
    "\n",
    "\n",
    "\n",
    "\n",
    "\n",
    "\n",
    "\n",
    "\n",
    "\n",
    "\n",
    "################## Exercise 1: Sage Operations ##################\n",
    "\n",
    "#### 1 \n",
    "#1a.) Generatate a 9-bit random prime 'p' suitable for ECC\n",
    "\n",
    "bits = 9\n",
    "x = randrange(2^(bits-1),2^bits)\n",
    "p = next_prime(x); \n",
    "print(p) \n",
    "p.nbits()\n",
    "\n",
    "\n",
    "\n"
   ]
  },
  {
   "cell_type": "code",
   "execution_count": null,
   "metadata": {},
   "outputs": [],
   "source": []
  },
  {
   "cell_type": "code",
   "execution_count": null,
   "metadata": {},
   "outputs": [],
   "source": []
  },
  {
   "cell_type": "code",
   "execution_count": 2,
   "metadata": {},
   "outputs": [
    {
     "name": "stdout",
     "output_type": "stream",
     "text": [
      "p =  373\n",
      "a =  315\n",
      "b =  283\n"
     ]
    }
   ],
   "source": [
    "\n",
    "#1b.) Generate suitable parameters p, a, and b for an elliptic curve.\n",
    "\n",
    "bits = 9\n",
    "x = randrange(2^(bits-1),2^bits)\n",
    "p = next_prime(x); \n",
    "print('p = ', p) \n",
    "#p.nbits()\n",
    "\n",
    "a, b = randrange(p), randrange(p)\n",
    "while (4*a^3 + 27*b^2) % p == 0:\n",
    "    a, b = randrange(p), randrange(p)\n",
    "print('a = ', a)\n",
    "print(\"b = \", b) \n",
    "\n"
   ]
  },
  {
   "cell_type": "code",
   "execution_count": 3,
   "metadata": {},
   "outputs": [
    {
     "name": "stdout",
     "output_type": "stream",
     "text": [
      "Elliptic Curve defined by y^2 = x^3 + 315*x + 283 over Finite Field of size 373\n",
      "(0 : 0 : 1)\n",
      "(0 : 1 : 0)\n",
      "(1 : 0 : 1)\n",
      "(2 : 1 : 1)\n",
      "(2 : 4 : 1)\n",
      "(3 : 2 : 1)\n",
      "(3 : 3 : 1)\n",
      "(4 : 0 : 1)\n"
     ]
    }
   ],
   "source": [
    "#c.) Define the elliptic curve with the generated parameters in b.)\n",
    "E = EllipticCurve(GF(p), [a,b]); \n",
    "print(E)\n",
    "\n",
    "#### 2\n",
    "#2a.) Generate all the points on the given elliptic curve E with the prime p=5\n",
    "E = EllipticCurve(GF(5),[-6,5])\n",
    "for P in E:\n",
    "    print(P)\n",
    "\n",
    "#Alternatively, E.points()\n",
    "\n"
   ]
  },
  {
   "cell_type": "code",
   "execution_count": 4,
   "metadata": {},
   "outputs": [
    {
     "name": "stdout",
     "output_type": "stream",
     "text": [
      "Elliptic Curve defined by y^2 = x^3 + x + 1 over Finite Field of size 103\n",
      "20\n"
     ]
    }
   ],
   "source": [
    "\n",
    "#2b.) Given H=xG, determine the discrete logarithm x, where p=103, a=1, b=1\n",
    "\n",
    "E = EllipticCurve(GF(103), [1,1]);\n",
    "print(E)\n",
    "G = E([0 ,1])\n",
    "H = 20*G\n",
    "x= G.discrete_log(H);\n",
    "print(x)\n",
    "\n"
   ]
  },
  {
   "cell_type": "code",
   "execution_count": 5,
   "metadata": {},
   "outputs": [
    {
     "data": {
      "image/png": "[encoded data removed]",
      "text/plain": [
       "Graphics object consisting of 1 graphics primitive"
      ]
     },
     "execution_count": 5,
     "metadata": {},
     "output_type": "execute_result"
    }
   ],
   "source": [
    "#2c.) Plot the elliptic curve E provided above indicating some points\n",
    "\n",
    "### option 1\n",
    "E = EllipticCurve(GF(5),[-6,5])\n",
    "E.plot()\n"
   ]
  },
  {
   "cell_type": "code",
   "execution_count": 6,
   "metadata": {},
   "outputs": [
    {
     "data": {
      "image/png": "[encoded data removed]",
      "text/plain": [
       "Graphics object consisting of 12 graphics primitives"
      ]
     },
     "metadata": {},
     "output_type": "display_data"
    }
   ],
   "source": [
    "### option 2\n",
    "\n",
    "var('x,y')\n",
    "\n",
    "graph = implicit_plot(x^3-6*x+5-y^2, (x, -5,5), (y, -5,5) )\n",
    "graph += plot( x-1, x,  -3,4)\n",
    "graph += plot( x-1, x,  -2,2, thickness =2)\n",
    "graph += point([1,0],size =30) + point ([2,1],size =30)\n",
    "graph += point([-2,-3],size =30) + point([-2,3],size =30)\n",
    "graph += line([(-2,3),(-2,-3)], linestyle ='--', thickness =2)\n",
    "graph += text(\"P\", (2.3,0.4), fontsize =20)\n",
    "graph += text(\"Q\", (1.3,-0.7), fontsize =20)\n",
    "graph += text(\"R\", (-2,-3.8), fontsize =20)\n",
    "graph += text(\"P+Q\", (-2.4, 4), fontsize =20)\n",
    "show(graph)\n"
   ]
  },
  {
   "cell_type": "code",
   "execution_count": 8,
   "metadata": {},
   "outputs": [
    {
     "name": "stdout",
     "output_type": "stream",
     "text": [
      "(0 : 1 : 0)\n",
      "(2 : 1 : 1)\n",
      "(5 : 3 : 1)\n",
      "(2 : 12 : 1)\n",
      "(0 : 1 : 0)\n",
      "4\n",
      "2\n"
     ]
    },
    {
     "ename": "NameError",
     "evalue": "name 'get_prime' is not defined",
     "output_type": "error",
     "traceback": [
      "\u001b[0;31m---------------------------------------------------------------------------\u001b[0m",
      "\u001b[0;31mNameError\u001b[0m                                 Traceback (most recent call last)",
      "\u001b[0;32m<ipython-input-8-196506dedfe0>\u001b[0m in \u001b[0;36m<module>\u001b[0;34m\u001b[0m\n\u001b[1;32m     17\u001b[0m \u001b[0;34m\u001b[0m\u001b[0m\n\u001b[1;32m     18\u001b[0m \u001b[0;31m# Example\u001b[0m\u001b[0;34m\u001b[0m\u001b[0;34m\u001b[0m\u001b[0;34m\u001b[0m\u001b[0m\n\u001b[0;32m---> 19\u001b[0;31m \u001b[0mp\u001b[0m \u001b[0;34m=\u001b[0m \u001b[0mget_prime\u001b[0m\u001b[0;34m(\u001b[0m\u001b[0mInteger\u001b[0m\u001b[0;34m(\u001b[0m\u001b[0;36m1024\u001b[0m\u001b[0;34m)\u001b[0m\u001b[0;34m)\u001b[0m\u001b[0;34m\u001b[0m\u001b[0;34m\u001b[0m\u001b[0m\n\u001b[0m\u001b[1;32m     20\u001b[0m \u001b[0;31m# check number of bits\u001b[0m\u001b[0;34m\u001b[0m\u001b[0;34m\u001b[0m\u001b[0;34m\u001b[0m\u001b[0m\n\u001b[1;32m     21\u001b[0m \u001b[0mN\u001b[0m\u001b[0;34m(\u001b[0m\u001b[0mlog\u001b[0m\u001b[0;34m(\u001b[0m\u001b[0mp\u001b[0m\u001b[0;34m,\u001b[0m\u001b[0mInteger\u001b[0m\u001b[0;34m(\u001b[0m\u001b[0;36m2\u001b[0m\u001b[0;34m)\u001b[0m\u001b[0;34m)\u001b[0m\u001b[0;34m)\u001b[0m\u001b[0;34m\u001b[0m\u001b[0;34m\u001b[0m\u001b[0m\n",
      "\u001b[0;31mNameError\u001b[0m: name 'get_prime' is not defined"
     ]
    }
   ],
   "source": [
    "#3)\n",
    "E = EllipticCurve(GF(13), [-6,5])\n",
    "P = E([2 ,1])\n",
    "Q = E([5,-10])\n",
    "\n",
    "print(P+(-P))\n",
    "print(E(0)+P)\n",
    "print(2*P)\n",
    "print(2*Q)\n",
    "print(5*P)\n",
    "\n",
    "E = EllipticCurve(GF(5),[-6,5])\n",
    "P = E([3 ,2])\n",
    "print(P.additive_order())\n",
    "Q = E([4, 0])\n",
    "print(Q.additive_order())\n",
    "\n",
    "# Example\n",
    "p = get_prime(1024)\n",
    "# check number of bits\n",
    "N(log(p,2))\n"
   ]
  },
  {
   "cell_type": "code",
   "execution_count": null,
   "metadata": {},
   "outputs": [],
   "source": [
    "############# Exercise 2: ECC encryption and decryption ############\n",
    "##############  1)\n",
    "1. In an elliptic Diffie-Hellman key exchange with the E given above, p=5 and # G=(2,1), Alice sends (0,0) to Bob while the Bob sends (2,4). What is the  # shared key? if the private keys for Alice and Bob are 2 and 3 respectively.\n",
    "# Solution\n",
    "\n",
    "p=5\n",
    "E = EllipticCurve(GF(5),[-6,5])\n",
    "G = E([2,1])\n",
    "PubA = E([0,0])\n",
    "PrA = 2\n",
    "PubB = E([2,4])\n",
    "PrB = 3\n",
    "## Shared key computed by Alice\n",
    "sharedkey_A = PrA*PubB\n",
    "\n",
    "## Shared key computed by Bob\n",
    "sharedkey_B = PrB*PubA\n",
    "\n",
    "### check shared keys\n",
    "sharedkey_A == sharedkey_B\n",
    "\n",
    "\n",
    "\n",
    "############### 2   ##############"
   ]
  },
  {
   "cell_type": "code",
   "execution_count": 9,
   "metadata": {},
   "outputs": [
    {
     "name": "stdout",
     "output_type": "stream",
     "text": [
      "A's private key = 6071010352620957058246971668124374387536671508444331793132335183977783607856009391804074950621516278392411864116295478788432280588905705504860482649940898336\n",
      "A's public key = (6200335324972692603362149661614895830482835061486639964634299764181718430823209230139633871855780959455673407045775913419485185826242202795992239307214759177 : 2440123052119779371782467627090004755646016763271793757101547888318100623657830043442658577999596941019288884081053006297379394146750003772121460088206610852 : 1)\n",
      "B's public key = (6328260086184695549377792699999136854110520383504215465472992778973672945997041889921038671148516224118375397175740763572169615630533434439943815967951379663 : 45403882814552610804417874675710833382017891104715273085554990872770232020325211413870942458653827002902212637146833214142131983638675126014231330000296986 : 1)\n",
      "Ciphertext= ((6200335324972692603362149661614895830482835061486639964634299764181718430823209230139633871855780959455673407045775913419485185826242202795992239307214759177 : 2440123052119779371782467627090004755646016763271793757101547888318100623657830043442658577999596941019288884081053006297379394146750003772121460088206610852 : 1), (4499615639487291609744359955997289026287961878317366920365886712053727735819535405364673116000411684109209512100001483711274398275833968336058215659471925554 : 2157130234044132530325258288260413202561678502793783882232400668621322777005440651555752493181429053230543670244621678514562690430478137842335471396055920834 : 1))\n"
     ]
    }
   ],
   "source": [
    "######  2a.)Encrypt the message M=\"ILOVECITYU\" using ECC with the NIST's p_521 #(secp521) Elliptic curve\n",
    "\n",
    "def koblitz_encode(E, string):\n",
    "    A = E.a4()\n",
    "    B = E.a6()\n",
    "    p = E.base_field().cardinality()\n",
    "    b = 2^16\n",
    "    m = string\n",
    "    n = len(m)\n",
    "    m = sum(ord(m[k])*b^k for k in range(n))\n",
    "    d = min(floor(p/m),100)\n",
    "\n",
    "    for  j in range (d):\n",
    "        x = (d*m + j) % p\n",
    "        s = (x^3 + A*x + B) % p\n",
    "        if s == power_mod(s,int((p+1)/2),p):\n",
    "            y = power_mod(s, int((p+1)/4), p)\n",
    "            P=E([x,y])\n",
    "            return (P)\n",
    "\n",
    "def koblitz_decode(P):\n",
    "    b=2^16\n",
    "    d=100\n",
    "    plaintext=[]\n",
    "    xj= P[0]/P[2]\n",
    "    m=floor((xj)/d)\n",
    "\n",
    "    while m != 0:\n",
    "        plaintext.append(chr(m%b)) #converts m to a list of characters\n",
    "        m//=b\n",
    "    return ''.join(plaintext)\n",
    "\n",
    "M = 'ILOVECITYU'\n",
    "E = EllipticCurve([-3,int('929A21A0',16)]).base_extend(GF(2^521 - 1))\n",
    "G = E.random_point()\n",
    "p=2^521 - 1\n",
    "M_point = koblitz_encode(E, M)     #message encoded as a point P\n",
    "\n",
    "PrA = randrange(p);\n",
    "print(\"A's private key =\", PrA)\n",
    "PubA = PrA*G ;\n",
    "print(\"A's public key =\",PubA)\n",
    "PrB = randrange(p);\n",
    "(\"B's private key =\", PrB)\n",
    "PubB = PrB*G\n",
    "print(\"B's public key =\",PubB)\n",
    "\n",
    "sKA = PrA*PubB      #shared key\n",
    "C = M_point + sKA\n",
    "ciphertext=(PubA, C)\n",
    "print(\"Ciphertext=\",ciphertext)"
   ]
  },
  {
   "cell_type": "code",
   "execution_count": 10,
   "metadata": {},
   "outputs": [
    {
     "name": "stdout",
     "output_type": "stream",
     "text": [
      "(189559362744191765040757265837210660371090644100 : 1789395494391969110469907879170857767601989423124600621943692969071096389249348432609940028338056604420014790301092550688280944093529910626924864589418403551 : 1)\n"
     ]
    },
    {
     "data": {
      "text/plain": [
       "'ILOVECITYU'"
      ]
     },
     "execution_count": 10,
     "metadata": {},
     "output_type": "execute_result"
    }
   ],
   "source": [
    "### 2b.) Decrypt back the plaintext in 2a.)\n",
    "\n",
    "sKB = PrB * ciphertext[0]\n",
    "sKB == sKA\n",
    "plaintext = ciphertext[1] - sKB\n",
    "print(plaintext)\n",
    "koblitz_decode(plaintext)\n",
    "\n",
    "\n",
    "###############   Appendix   ##############"
   ]
  },
  {
   "cell_type": "code",
   "execution_count": 23,
   "metadata": {},
   "outputs": [
    {
     "name": "stdout",
     "output_type": "stream",
     "text": [
      "A's public key = (1146057438607217590955751700109576095497461096182819243736917961321565019017345067945703181708903273480797139696487456123405371969228603115102368272236951485 : 5756765023926184177167345658265179878648992892466391974471660082787732799467584134668689685466316487393479515343874217877936488297170576752537213373365839798 : 1)\n",
      "B's public key = (3785458767505494794726976231055411066248676937421855683124013905953285304543471561619341755635951923381794540080150689598971681329343919995499453262770208218 : 1636895260302367436762094725193875008017403313482216390164888144469871782315747013447289477874051412807488993138263897416258936140066504847885472426120486344 : 1)\n",
      "Ciphertext= ((1146057438607217590955751700109576095497461096182819243736917961321565019017345067945703181708903273480797139696487456123405371969228603115102368272236951485 : 5756765023926184177167345658265179878648992892466391974471660082787732799467584134668689685466316487393479515343874217877936488297170576752537213373365839798 : 1), 2850975567667730304298232889590946957631047602830749799046485651362704624233468849158057382759895080655563015597064703249586007347450345492354114488143492227, 1639795287947762996892373393769668929199407820410546586157811421442874338219048710198654307193090680715091384338555500028408792570641193488064382555047343993)\n",
      "G (6056554667358731810877264425091759017368508835402312270140215609082012520719677895105263882879761810164058188897138309661388599401397813202200031917202907936 : 1111209263354724614310149408966058595258313142024323239612438190756874223794914445531325421870113619771770785658605679791148382235448298239605578710530446313 : 1)\n"
     ]
    }
   ],
   "source": [
    "######  3a.) Use MV-ElGamal method to encrypt the message\n",
    "# M = \"WELCOMETOCITYUNIVERSITY\" with the Elliptic NIST's P521 elliptic curve.\n",
    "import pandas as pd  #请注意每次加密的值都不一样，因为G是一个随机数\n",
    "import numpy as np\n",
    "def encrypt_mv(nA, PubB, G, m1, m2):\n",
    "    x,y = 0,0\n",
    "    while((x==0) or (y==0)):\n",
    "        x = (nA*PubB )[0]\n",
    "        y = (nA*PubB )[1]\n",
    "    return nA*G, m1*x, m2*y\n",
    "\n",
    "def decrypt_mv(nB, ciphertext):\n",
    "    x = (nB*ciphertext[0])[0]\n",
    "    y = (nB*ciphertext[0])[1]\n",
    "    return ciphertext[1]*x^-1, ciphertext[2]*y^-1\n",
    "\n",
    "#string to number\n",
    "def str2num(str):\n",
    "    num = 0\n",
    "    for c in str:\n",
    "        num = (256 * num) + ord(c) \n",
    "        #num = (256 * num) + ord(c) ^I  注意这段发生了错误 d of size\n",
    "    return num  #导致报错：unsupported operand parent(s) for *: 'Symbolic Ring' and 'Finite Fiel\n",
    "\n",
    "#number to string\n",
    "def num2str(num):\n",
    "    num = Integer(num)\n",
    "    str =''\n",
    "    for i in num.digits(256):\n",
    "        str = chr(i) + str\n",
    "    return str\n",
    "\n",
    "\n",
    "M = 'WELCOMETOCITYUNIVERSITY'\n",
    "str1 = 'WELCOMETO'\n",
    "str2 = 'CITYUNIVERSITY'\n",
    "m1 = str2num(str1)\n",
    "m2 = str2num(str2)\n",
    "\n",
    "E = EllipticCurve([-3,int('929A21A0',16)]).base_extend(GF(2^521 - 1))\n",
    "G = E.random_point()\n",
    "p=2^521 - 1\n",
    "nA = randrange(p);\n",
    "PubA = nA*G ;\n",
    "print(\"A's public key =\", PubA)\n",
    "nB = randrange(p);\n",
    "PubB = nB*G\n",
    "print(\"B's public key =\",PubB)\n",
    "\n",
    "#Encrypt\n",
    "''''''''''\n",
    "pd.to_numeric(nA, errors='coerce')\n",
    "pd.to_numeric(PubB, errors='coerce')\n",
    "pd.to_numeric(G, errors='coerce')\n",
    "pd.to_numeric(m1, errors='coerce')\n",
    "pd.to_numeric(m2, errors='coerce')\n",
    "'''''''''''\n",
    "\n",
    "ciphertext = encrypt_mv(nA, PubB, G, m1, m2)\n",
    "#pd.to_numeric(ciphertext, errors='coerce')\n",
    "print(\"Ciphertext=\",ciphertext)\n",
    "print(\"G\",G)"
   ]
  },
  {
   "cell_type": "code",
   "execution_count": 24,
   "metadata": {},
   "outputs": [
    {
     "name": "stdout",
     "output_type": "stream",
     "text": [
      "A's public key = (5267302275842124803999060539177489221168579705066911003974926719266404070031913161455127957319251691716632375040468614768469039704937645457004792349789222072 : 3942253307410786494421179458252813705078002080047079446187154204108656154438332909084590227047465442732718245380013240023847007366403571478912721477355513050 : 1)\n",
      "B's public key = (2076595853776262649111950275372051954697228080592108892818721508491985076967009096825317163418642457474450029601159340762640062233418378427674921949166533743 : 3721729133709692903075996881366597785364315706131892647115498469361574220761628959989021663479163390272623904757511307504928620820084243851923091718568818595 : 1)\n",
      "Ciphertext= ((5267302275842124803999060539177489221168579705066911003974926719266404070031913161455127957319251691716632375040468614768469039704937645457004792349789222072 : 3942253307410786494421179458252813705078002080047079446187154204108656154438332909084590227047465442732718245380013240023847007366403571478912721477355513050 : 1), 2427184763114408768394622158832919714681131837816150245138161961322809145208413613156340337991203420236074081761420259515167291301562790856187109934410195881, 1366864465351292600065862662147227052142270205237760598237526304819400769282564896939503578358217305668371755846997063214605885261525956571853135633864755794)\n",
      "G (4246451362715738550831569610358329792299552060587979320706110891520929320820119707600887401198533956933079364238929970644866312380746058581994393016868770486 : 5334500069860773257816038843379557533469668022503859111373232803453186925002443058726511160879980917172859218578032816110166662755333717044090800176483407939 : 1)\n"
     ]
    }
   ],
   "source": [
    "def encrypt_mv(nA, PubB, G, m1, m2):\n",
    "    x,y = 0,0\n",
    "    while((x==0) or (y==0)):\n",
    "        x = (nA*PubB )[0]\n",
    "        y = (nA*PubB )[1]\n",
    "    return nA*G, m1*x, m2*y\n",
    "\n",
    "def decrypt_mv(nB, ciphertext):\n",
    "    x = (nB*ciphertext[0])[0]\n",
    "    y = (nB*ciphertext[0])[1]\n",
    "    return ciphertext[1]*x^-1, ciphertext[2]*y^-1\n",
    "\n",
    "#string to number\n",
    "def str2num(str):\n",
    "    num = 0\n",
    "    for c in str:\n",
    "        num = (256 * num) + ord(c)\n",
    "    return num\n",
    "\n",
    "#number to string\n",
    "def num2str(num):\n",
    "    num = Integer(num)\n",
    "    str =''\n",
    "    for i in num.digits(256):\n",
    "        str = chr(i) + str\n",
    "    return str\n",
    "\n",
    "\n",
    "M = 'WELCOMETOCITYUNIVERSITY'\n",
    "str1 = 'WELCOMETO'\n",
    "str2 = 'CITYUNIVERSITY'\n",
    "m1 = str2num(str1)\n",
    "m2 = str2num(str2)\n",
    "\n",
    "E = EllipticCurve([-3,int('929A21A0',16)]).base_extend(GF(2^521 - 1))\n",
    "G = E.random_point()\n",
    "p=2^521 - 1\n",
    "nA = randrange(p);\n",
    "PubA = nA*G ;\n",
    "print(\"A's public key =\", PubA)\n",
    "nB = randrange(p);\n",
    "PubB = nB*G\n",
    "print(\"B's public key =\",PubB)\n",
    "\n",
    "#Encrypt\n",
    "ciphertext = encrypt_mv(nA, PubB, G, m1, m2)\n",
    "print(\"Ciphertext=\",ciphertext)\n",
    "print(\"G\",G)"
   ]
  },
  {
   "cell_type": "code",
   "execution_count": 25,
   "metadata": {},
   "outputs": [
    {
     "data": {
      "text/plain": [
       "'WELCOMETOCITYUNIVERSITY'"
      ]
     },
     "execution_count": 25,
     "metadata": {},
     "output_type": "execute_result"
    }
   ],
   "source": [
    "##### 3b.) Decrypt the message in 3a.)\n",
    "\n",
    "m1, m2 = decrypt_mv(nB, ciphertext)\n",
    "plaintext = num2str(m1) + num2str(m2)\n",
    "plaintext\n"
   ]
  },
  {
   "cell_type": "code",
   "execution_count": null,
   "metadata": {},
   "outputs": [],
   "source": []
  },
  {
   "cell_type": "code",
   "execution_count": null,
   "metadata": {},
   "outputs": [],
   "source": []
  }
 ],
 "metadata": {
  "kernelspec": {
   "display_name": "SageMath 9.2",
   "language": "sage",
   "name": "sagemath"
  },
  "language_info": {
   "codemirror_mode": {
    "name": "ipython",
    "version": 3
   },
   "file_extension": ".py",
   "mimetype": "text/x-python",
   "name": "python",
   "nbconvert_exporter": "python",
   "pygments_lexer": "ipython3",
   "version": "3.7.7"
  }
 },
 "nbformat": 4,
 "nbformat_minor": 4
}
