{
 "cells": [
  {
   "cell_type": "code",
   "execution_count": 1,
   "metadata": {},
   "outputs": [
    {
     "data": {
      "text/plain": [
       "128"
      ]
     },
     "execution_count": 1,
     "metadata": {},
     "output_type": "execute_result"
    }
   ],
   "source": [
    "# 'ctrl加/\n",
    "#1a.) 使用 MD5 散列函数散列文本“考试即将来临”。是什么消息摘要的大小？\n",
    "from Crypto.Hash import MD5\n",
    "\n",
    "M=b'Exam is approaching'\n",
    "h = MD5.new(M)\n",
    "message_digest = h.hexdigest(); message_digest\n",
    "#'f8a7d0709ba977ca027968b488b956d2'\n",
    "len(message_digest)*4\n",
    "#128"
   ]
  },
  {
   "cell_type": "code",
   "execution_count": 2,
   "metadata": {},
   "outputs": [
    {
     "data": {
      "text/plain": [
       "False"
      ]
     },
     "execution_count": 2,
     "metadata": {},
     "output_type": "execute_result"
    }
   ],
   "source": [
    "# b.) 将第一个字母 'E' 替换为 'A'，消息摘要是什么？\n",
    "# ///TA删除了这个问题\n",
    "\n",
    "#1b.) \n",
    "from Crypto.Hash import MD5\n",
    "\n",
    "h = MD5.new(b'Axam is approaching')\n",
    "message_digest2 = h.hexdigest();  \n",
    "message_digest2\n",
    "message_digest == message_digest2\n",
    "# c.) 如果除前 4 个字母之外的所有字母都被删除，消息摘要是什么///TA删除了这个问题\n"
   ]
  },
  {
   "cell_type": "code",
   "execution_count": 3,
   "metadata": {},
   "outputs": [
    {
     "data": {
      "text/plain": [
       "False"
      ]
     },
     "execution_count": 3,
     "metadata": {},
     "output_type": "execute_result"
    }
   ],
   "source": [
    "from Crypto.Hash import MD5\n",
    "\n",
    "h = MD5.new()\n",
    "h.update(b'Exam')\n",
    "message_digest3 = h.hexdigest();  message_digest3\n",
    "message_digest == message_digest3"
   ]
  },
  {
   "cell_type": "code",
   "execution_count": 4,
   "metadata": {},
   "outputs": [
    {
     "data": {
      "text/plain": [
       "256"
      ]
     },
     "execution_count": 4,
     "metadata": {},
     "output_type": "execute_result"
    }
   ],
   "source": [
    "# 2a.) 使用 SHA-256 哈希函数生成字符串的消息摘要\n",
    "# “EE5815”。\n",
    "from Crypto.Hash import SHA256\n",
    "M = b'EE5815'\n",
    "h = SHA256.new(M)\n",
    "message_digest = h.hexdigest(); message_digest\n",
    "#'0769415cd58f71aad0ba195f72e6a1cae6a45c1ec8de7bb23975f03d65a2bb8c'\n",
    "len(message_digest)*4\n",
    "#256\n"
   ]
  },
  {
   "cell_type": "code",
   "execution_count": 5,
   "metadata": {},
   "outputs": [
    {
     "data": {
      "text/plain": [
       "False"
      ]
     },
     "execution_count": 5,
     "metadata": {},
     "output_type": "execute_result"
    }
   ],
   "source": [
    "# b.) 如果字符串更改为“ee5815”和“EE 5815”是什么\n",
    "# 消息摘要？\n",
    "# ///TA删除了这个问题\n",
    "\n",
    "\n",
    "M = b'ee5815'\n",
    "h = SHA256.new(M)\n",
    "message_digest2 = h.hexdigest(); message_digest2\n",
    "message_digest2 == message_digest"
   ]
  },
  {
   "cell_type": "code",
   "execution_count": 6,
   "metadata": {},
   "outputs": [
    {
     "data": {
      "text/plain": [
       "False"
      ]
     },
     "execution_count": 6,
     "metadata": {},
     "output_type": "execute_result"
    }
   ],
   "source": [
    "\n",
    "M = b'EE 5815'\n",
    "h = SHA256.new(M)\n",
    "message_digest3 = h.hexdigest(); message_digest3\n",
    "message_digest3 == message_digest"
   ]
  },
  {
   "cell_type": "code",
   "execution_count": 7,
   "metadata": {},
   "outputs": [
    {
     "data": {
      "text/plain": [
       "160"
      ]
     },
     "execution_count": 7,
     "metadata": {},
     "output_type": "execute_result"
    }
   ],
   "source": [
    "# c.) 如果字符串是使用 RIPEMD160 散列的，则比较消息摘要。\n",
    "from Crypto.Hash import RIPEMD160\n",
    "\n",
    "M = b'EE5815'\n",
    "h = RIPEMD160.new(M)\n",
    "message_digest4 = h.hexdigest();\n",
    "message_digest4\n",
    "##result: 'cd497e56937a32c92450b86a7d136c17157b4ddb'\n",
    "\n",
    "message_digest4 == message_digest\n",
    "len(message_digest4)*4\n"
   ]
  },
  {
   "cell_type": "code",
   "execution_count": 15,
   "metadata": {},
   "outputs": [
    {
     "name": "stdout",
     "output_type": "stream",
     "text": [
      "[2, 4, 1, 9, 9, 1, 3, 9]\n"
     ]
    },
    {
     "data": {
      "text/plain": [
       "['6171', '1471 发生碰撞', '1989', '4199', '9679 发生碰撞', '9679', '1471', '6171 发生碰撞']"
      ]
     },
     "execution_count": 15,
     "metadata": {},
     "output_type": "execute_result"
    }
   ],
   "source": [
    "\n",
    "\n",
    "# 3. 给定以下输入 (4322, 1334, 1471, 9679, 1989, 6171, 6173, 4199)\n",
    "# 和哈希函数 f(x) = x mod 10\n",
    "# a.) 如果存在任何碰撞，则查找任何碰撞并说明有碰撞的输入。\n",
    "\n",
    "input=[4322, 1334, 1471, 9679, 1989, 6171, 6173, 4199]\n",
    "hashes = []\n",
    "collision = []\n",
    "\n",
    "for x in range(len(input)):\n",
    "    h = mod(input[x], 10)\n",
    "    hashes.append(h)\n",
    "\n",
    "print(hashes)\n",
    "\n",
    "for x in range(len(input)):\n",
    "    found = False\n",
    "    exist = False\n",
    "    for j in range(len(input)):\n",
    "        if ((hashes[x] == hashes[j]) and (x !=j)):\n",
    "            found = True\n",
    "            for i in range(len(collision)):\n",
    "                if (str(input[j]) == collision[i]) or((str(input[j])+\" : \") == collision[i]):\n",
    "                    exist = True\n",
    "            if(not exist):\n",
    "                collision.append(str(input[j]))\n",
    "                #print('存在碰撞',str(input[i]))\n",
    "    if(found and (not exist)):\n",
    "        collision.append(str(input[x])+\" 发生碰撞\")\n",
    "\n",
    "collision\n",
    "\n",
    "# b.) 如果将哈希函数替换为 SHA256，碰撞的几率是多少"
   ]
  },
  {
   "cell_type": "code",
   "execution_count": 9,
   "metadata": {},
   "outputs": [
    {
     "name": "stdout",
     "output_type": "stream",
     "text": [
      "The message 'b'Hi Bob, let us meet at noon'' is authentic\n"
     ]
    }
   ],
   "source": [
    "# 1. Alice 想在 a 中发送消息 M=\"Hi Bob, let we meet at noon\" 给 Bob\n",
    "# 使用 HMAC 或 CMAC 的可验证方式。\n",
    "# a.) 如果 Alice 和 Bob 的共享密钥是 K，则为 M 生成 HMAC-SHA256。\n",
    "#   K='EE5815'\n",
    "    \n",
    "from Crypto.Hash import HMAC, SHA256\n",
    "\n",
    "key = b'EE5815'\n",
    "M = b'Hi Bob, let us meet at noon'\n",
    "h = HMAC.new(key, msg=M, digestmod=SHA256)\n",
    "#h.update(M)\n",
    "hmac= h.hexdigest(); hmac\n",
    "#'668808fd32a4489382523347e23407b7c22ae25c7cb1f768c6dd1afcdcf84a3b'\n",
    "##### 1b.) Authenticate hmac and M\n",
    "\n",
    "h = HMAC.new(key, msg=M, digestmod=SHA256)\n",
    "try:\n",
    "  h.hexverify(hmac)\n",
    "  print(\"The message '%s' is authentic\" % M)\n",
    "except ValueError:\n",
    "  print(\"Unauthentic message or wrong key used\")\n",
    "# b.) 假设您是 Bob，验证消息以证明它确实来自爱丽丝"
   ]
  },
  {
   "cell_type": "code",
   "execution_count": 19,
   "metadata": {},
   "outputs": [
    {
     "name": "stdout",
     "output_type": "stream",
     "text": [
      "cmac: 294000f8a26b00dec9d2cd6e73c94617\n",
      "The message '%s' is authentic\n"
     ]
    }
   ],
   "source": [
    "#### 1c.) CMAC验证方式   和上文的HMAC做个对比\n",
    "\n",
    "from Crypto.Hash import CMAC\n",
    "from Crypto.Cipher import AES\n",
    "\n",
    "key = b'Our 16 byte key!'\n",
    "M = b'Hi Bob, let us meet at noon'\n",
    "\n",
    "cobj = CMAC.new(key, msg=M, ciphermod=AES)\n",
    "cmac = cobj.hexdigest(); \n",
    "print('cmac:',cmac)\n",
    "\n",
    "### To Authenticate\n",
    "\n",
    "cobj = CMAC.new(key, msg=M, ciphermod=AES)\n",
    "try:\n",
    "  cobj.hexverify(cmac)\n",
    "  print(\"The message '%s' is authentic\" %M)   #将M作为字符串替代输出内容的%S\n",
    "except ValueError:\n",
    "  print(\"Unauthentic message or wrong key used\")\n"
   ]
  },
  {
   "cell_type": "code",
   "execution_count": 11,
   "metadata": {},
   "outputs": [
    {
     "name": "stdout",
     "output_type": "stream",
     "text": [
      "Signature: b'933aff21175c3e8a6c7081473dcd8fa4c08d46f596495a7532acbb85c272d68fa43875e123db08212ae10140631c7962c66e3dce31bf51944bb00a592eeaca41150ed61e03738c19884770f904a6847d892d55b6f9afdd100f0846ab99ecd2afba955bbf59397f72fda8df56ccaef4cca3b417c8a697e3516273464ea14155d7'\n",
      "Signature is valid.\n"
     ]
    }
   ],
   "source": [
    "\n",
    "\n",
    "################## Exercise 2:  Digital Signature #########\n",
    "\n",
    "###### 1. PKCS1_v1.5 digital signature Scheme:\n",
    "# 1. PKCS1_v1.5 数字签名方案：\n",
    "# a.) 生成 1024 位 RSA 密钥对\n",
    "#1a.) 1024-bit RSA key pair key pair\n",
    "\n",
    "from Crypto.PublicKey import RSA\n",
    "\n",
    "keyPair = RSA.generate(bits=1024)\n",
    "pubKey = keyPair.publickey()\n",
    "\n",
    "#1b.) Sign the message using the PKCS#1 v1.5 \n",
    "\n",
    "# b.) 使用 PKCS1_v1.5 签名方案和生成的消息对消息“\n",
    "# M”进行签名。先生成sighner再签名\n",
    "from Crypto.Signature.pkcs1_15 import PKCS115_SigScheme\n",
    "from Crypto.Hash import SHA256\n",
    "import binascii\n",
    "\n",
    "M = b'Let sleeping dogs lie please'\n",
    "hash = SHA256.new(M)\n",
    "signer = PKCS115_SigScheme(keyPair)\n",
    "signature = signer.sign(hash)\n",
    "print(\"Signature:\", binascii.hexlify(signature))\n",
    "\n",
    "#### 1c.) Authentication\n",
    "\n",
    "# c.) 验证消息以确保消息的完整性。\n",
    "# 先生成验证者再进行验证\n",
    "#   M=\"请让睡着的狗躺下\"\n",
    "hash = SHA256.new(M)\n",
    "verifier = PKCS115_SigScheme(pubKey)\n",
    "try:\n",
    "    verifier.verify(hash, signature)\n",
    "    print(\"Signature is valid.\")\n",
    "except:\n",
    "    print(\"Signature is invalid.\")\n",
    "\n",
    "#M = b'Let sleeping dogs lie pleas'\n"
   ]
  },
  {
   "cell_type": "code",
   "execution_count": 12,
   "metadata": {},
   "outputs": [
    {
     "name": "stdout",
     "output_type": "stream",
     "text": [
      "Signature: b'225a4048c6d61920835c2d463fcf63191c054534797e7d5ab75caaa7705e7a3628746396637b034667040fa77d83e3c66bb6865d06eb4c5f538878d3ea662419'\n",
      "The message is authentic.\n"
     ]
    }
   ],
   "source": [
    "\n",
    "# 用WRITE函数写入新文件，open函数打开：w'或'wt'：\n",
    "# 以文本写模式打开（打开前文件会被清空）'r'或'rt'：\n",
    "# 默认模式，文本读模式\n",
    "# https://blog.csdn.net/doiido/article/details/43675465?utm_medium=distribute.pc_aggpage_\n",
    "# search_result.none-task-blog-2~aggregatepage~first_rank_ecpm_v1~rank_aggregation-4-\n",
    "# 43675465.pc_agg_rank_aggregation&utm_term=python%E7%9A%84open%E5%87%BD%E6%95%B0wt&spm=\n",
    "# 1000.2123.3001.4430\n",
    "\n",
    "\n",
    "###### 2. ECDSA:\n",
    "\n",
    "#2a.) Generate ECC key pair and store in a file\n",
    "from Crypto.Hash import SHA256\n",
    "from Crypto.PublicKey import ECC\n",
    "from Crypto.Signature import DSS\n",
    "import binascii\n",
    "\n",
    "### a.) generating the key pair\n",
    "# 2. ECDSA 使用 PyCryptodome 包：\n",
    "# a.) 生成 ECC 密钥对并存储在文件“myKey.pem”中\n",
    "key = ECC.generate(curve='P-256')\n",
    "f = open(r'D:\\mykey.pem','wt')\n",
    "f.write(key.export_key(format='PEM'))\n",
    "f.close()\n",
    "\n",
    "### b.) Signing the message\n",
    "msg = b'Meet me tomorrow'\n",
    "f = open(r'D:\\mykey.pem','rt')\n",
    "K = ECC.import_key(f.read())\n",
    "\n",
    "h = SHA256.new(msg)\n",
    "signer = DSS.new(K, 'fips-186-3')\n",
    "signature = signer.sign(h)\n",
    "print(\"Signature:\", binascii.hexlify(signature))\n",
    "f.close()\n",
    "\n",
    "\n",
    "### Signature Verification\n",
    "# b.) 签署消息 M=\"明天见\"。验证真实性信息。\n",
    "key = ECC.import_key(open(r'D:\\mykey.pem','rt').read())\n",
    "h = SHA256.new(msg)\n",
    "verifier = DSS.new(key, 'fips-186-3')\n",
    "\n",
    "try:\n",
    "    verifier.verify(h, signature)\n",
    "    print(\"The message is authentic.\")\n",
    "except ValueError:\n",
    "    print(\"The message is not authentic.\")\n",
    "f.close()\n",
    "\n"
   ]
  },
  {
   "cell_type": "code",
   "execution_count": 13,
   "metadata": {},
   "outputs": [
    {
     "name": "stdout",
     "output_type": "stream",
     "text": [
      "sk =  efd46ce7554512868484f9efc2e3d31239e70c61c7a24292\n",
      "vk =  ef55ad4ded2fba3eaf1eeaa30eec0545ac7b141a1d17178bf140514d647d32ea9bfd8f248224ae0e48915621c4608775\n",
      "signature =  b7da2a9844d5f88e706f3db1427d5b0168e275f0046a531de0744fb35fb7e0b4598a0b324ba0243985030e3ee452f6b8\n"
     ]
    },
    {
     "data": {
      "text/plain": [
       "True"
      ]
     },
     "execution_count": 13,
     "metadata": {},
     "output_type": "execute_result"
    }
   ],
   "source": [
    "\n",
    "\n",
    "##### 3. ECDSA using Python ecdsa package:\n",
    "\n",
    "# ECDSA 使用 Python ecdsa 包：\n",
    "# a.) 生成一个 ECDSA 密钥来签署和验证消息“我比\n",
    "# pycrypto”\n",
    "#### a.)\n",
    "\n",
    "from ecdsa import SigningKey\n",
    "\n",
    "sk = SigningKey.generate() # uses NIST192p\n",
    "print(\"sk = \", (sk.to_string()).hex())\n",
    "vk = sk.verifying_key\n",
    "print(\"vk = \", (vk.to_string()).hex())\n",
    "\n",
    "message = b\"I am better than pycrypto\"\n",
    "\n",
    "signature = sk.sign(message)\n",
    "print(\"signature = \", signature.hex())\n",
    "vk.verify(signature, message)\n"
   ]
  },
  {
   "cell_type": "code",
   "execution_count": 14,
   "metadata": {},
   "outputs": [
    {
     "name": "stdout",
     "output_type": "stream",
     "text": [
      "signature =  216412148ae2d415f5cfcdbdcd1e69f6fa7f71df0b20b9db9852a5451709da99342e57a8fcc10818d66a9aa864ec9239\n",
      "This message was actually sent by Alice\n"
     ]
    }
   ],
   "source": [
    "\n",
    "\n",
    "##### b.)\n",
    "# b.) Alice 想发送消息“我将从我的工资中给你 6000 美元”给\n",
    "# 鲍勃，以便他以后不能否认。生成并验证 ECDSA\n",
    "# 数字签名‘\n",
    "# S’与消息一起发送，如果签名和\n",
    "# Alice 的验证密钥分别是 skA 和 vKA。\n",
    "# skA = '85850b0df26ec77cf50bdb649b5bf97b96449160936e4334'\n",
    "# vkA='93bdca7975c78d722d75421f9888e18149b501bc5327520f7c85188745e8119cd8eb7f8086a\n",
    "# 4a3a0b2c2f5f32ff9d717' [注意：使用 NIST192p 曲线和 SHA1（默认）]\n",
    "\n",
    "from ecdsa import SigningKey, VerifyingKey, NIST192p\n",
    "\n",
    "skA_str = '85850b0df26ec77cf50bdb649b5bf97b96449160936e4334'\n",
    "vkA_str = '93bdca7975c78d722d75421f9888e18149b501bc5327520f7c85188745e8119cd8eb7f8086a4a3a0b2c2f5f32ff9d717'\n",
    "\n",
    "skA = SigningKey.from_string(bytes.fromhex(skA_str), NIST192p)\n",
    "vkA = VerifyingKey.from_string(bytes.fromhex(vkA_str), NIST192p)\n",
    "\n",
    "msg = b\"I will give you $6000 from my salary\"\n",
    "\n",
    "#### Sign the message\n",
    "signature = skA.sign(msg)\n",
    "sig_hex = signature.hex(); print(\"signature = \", sig_hex)\n",
    "\n",
    "#### Verify the signature\n",
    "sig = bytes.fromhex(sig_hex)\n",
    "sig == signature\n",
    "\n",
    "try:  \n",
    "    vkA.verify(sig, msg)\n",
    "    print(\"This message was actually sent by Alice\")\n",
    "except:\n",
    "    print(\"This message was not sent by Alice\")\n"
   ]
  },
  {
   "cell_type": "code",
   "execution_count": null,
   "metadata": {},
   "outputs": [],
   "source": []
  },
  {
   "cell_type": "code",
   "execution_count": null,
   "metadata": {},
   "outputs": [],
   "source": []
  },
  {
   "cell_type": "code",
   "execution_count": null,
   "metadata": {},
   "outputs": [],
   "source": []
  }
 ],
 "metadata": {
  "kernelspec": {
   "display_name": "SageMath 9.2",
   "language": "sage",
   "name": "sagemath"
  },
  "language_info": {
   "codemirror_mode": {
    "name": "ipython",
    "version": 3
   },
   "file_extension": ".py",
   "mimetype": "text/x-python",
   "name": "python",
   "nbconvert_exporter": "python",
   "pygments_lexer": "ipython3",
   "version": "3.7.7"
  }
 },
 "nbformat": 4,
 "nbformat_minor": 4
}
