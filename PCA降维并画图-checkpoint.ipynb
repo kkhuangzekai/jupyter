{
 "cells": [
  {
   "cell_type": "code",
   "execution_count": 4,
   "metadata": {},
   "outputs": [
    {
     "name": "stdout",
     "output_type": "stream",
     "text": [
      "原始数据：\n",
      "[[-1 -1]\n",
      " [-2 -1]\n",
      " [-3 -2]\n",
      " [ 1  1]\n",
      " [ 2  1]\n",
      " [ 3  2]]\n",
      "降维后的数据：\n",
      "[[ 1.38340578  0.2935787 ]\n",
      " [ 2.22189802 -0.25133484]\n",
      " [ 3.6053038   0.04224385]\n",
      " [-1.38340578 -0.2935787 ]\n",
      " [-2.22189802  0.25133484]\n",
      " [-3.6053038  -0.04224385]]\n",
      "还原的数据：\n",
      "[[-1. -1.]\n",
      " [-2. -1.]\n",
      " [-3. -2.]\n",
      " [ 1.  1.]\n",
      " [ 2.  1.]\n",
      " [ 3.  2.]]\n"
     ]
    },
    {
     "data": {
      "image/png": "[encoded data removed]",
      "text/plain": [
       "<Figure size 432x288 with 2 Axes>"
      ]
     },
     "metadata": {
      "needs_background": "light"
     },
     "output_type": "display_data"
    },
    {
     "name": "stdout",
     "output_type": "stream",
     "text": [
      "[0.99244289 0.00755711]\n"
     ]
    }
   ],
   "source": [
    "import numpy as np\n",
    "import matplotlib.pyplot as plt\n",
    "from sklearn.decomposition import PCA\n",
    "\n",
    "# 原始数据\n",
    "X = np.array([[-1, -1], [-2, -1], [-3, -2], [1, 1], [2, 1], [3, 2]]);\n",
    "\n",
    "# pca降维\n",
    "pca = PCA(n_components = 2)\n",
    "X1 = pca.fit_transform(X)\n",
    "Y = pca.inverse_transform(X1)\n",
    "print('原始数据：')\n",
    "print(X)\n",
    "print('降维后的数据：')\n",
    "print(X1)\n",
    "print('还原的数据：')\n",
    "print(Y)\n",
    "\n",
    "\n",
    "# 绘制散点图，可视化数据\n",
    "fig = plt.figure()\n",
    "ax1 = fig.add_subplot(121)\n",
    "plt.xlabel('X')\n",
    "plt.ylabel('Y')\n",
    "ax1.scatter(X[:,0],X[:,1],c='r',marker='o')\n",
    "# 绘制还原后的数据\n",
    "ax2 = fig.add_subplot(122)\n",
    "plt.xlabel('X')\n",
    "ax2.scatter(Y[:,0],Y[:,1],c='b',marker='x')\n",
    "plt.show()\n",
    "print(pca.explained_variance_ratio_)\n"
   ]
  }
 ],
 "metadata": {
  "kernelspec": {
   "display_name": "Python 3",
   "language": "python",
   "name": "python3"
  },
  "language_info": {
   "codemirror_mode": {
    "name": "ipython",
    "version": 3
   },
   "file_extension": ".py",
   "mimetype": "text/x-python",
   "name": "python",
   "nbconvert_exporter": "python",
   "pygments_lexer": "ipython3",
   "version": "3.8.5"
  }
 },
 "nbformat": 4,
 "nbformat_minor": 4
}
