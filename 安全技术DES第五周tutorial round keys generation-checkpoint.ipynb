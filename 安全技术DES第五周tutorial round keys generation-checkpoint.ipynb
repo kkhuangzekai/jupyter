{
 "cells": [
  {
   "cell_type": "code",
   "execution_count": 4,
   "metadata": {},
   "outputs": [
    {
     "data": {
      "text/plain": [
       "['6433a6b224c1',\n",
       " '32b764733047',\n",
       " 'c85c532681aa',\n",
       " '65e37c043d47',\n",
       " '86d5836e80f0',\n",
       " '7b0b7341cd4b',\n",
       " 'adf0890e9418',\n",
       " '1307dec95564',\n",
       " '324ed94dda20',\n",
       " '5d7920106c78',\n",
       " '82addda99814',\n",
       " '5d66078166b2',\n",
       " '639da83d0a05',\n",
       " 'd8a0e79240d6',\n",
       " 'b1ce1a05a385',\n",
       " 'e47a8a242299']"
      ]
     },
     "execution_count": 4,
     "metadata": {},
     "output_type": "execute_result"
    }
   ],
   "source": [
    "##DES中秘钥共有64位，但是我们只用了56位，增强了安全性\n",
    "#### a.) Round keys operations ######################\n",
    "from sage.crypto.block_cipher.des import DES_KS\n",
    "ks = DES_KS()\n",
    "#[k.hex() for k in ks(0x9ac29d5596cbed65)]\n",
    "a=0x32FFE342567421\n",
    "[k.hex() for k in ks(a)]"
   ]
  },
  {
   "cell_type": "code",
   "execution_count": 2,
   "metadata": {},
   "outputs": [
    {
     "data": {
      "text/plain": [
       "(0, 0, 0, 0, 0, 0, 1, 0, 0, 0, 0, 1, 0, 0, 0, 0, 0, 0, 0, 0, 0, 0, 0, 0, 0, 0, 0, 0, 0, 0, 0, 0, 0, 0, 0, 0, 0, 0, 0, 0, 0, 0, 0, 0, 0, 0, 0, 0, 0, 0, 0, 0, 0, 0, 0, 0, 0, 0, 0, 0, 0, 0, 0, 0)"
      ]
     },
     "execution_count": 2,
     "metadata": {},
     "output_type": "execute_result"
    }
   ],
   "source": [
    "\n",
    "####   b.) Initial and Final Permutations:############\n",
    "\n",
    "## 1. \n",
    "from sage.crypto.block_cipher.des import DES\n",
    "from sage.crypto.block_cipher.des import convert_to_vector\n",
    "des = DES()\n",
    "B = convert_to_vector(0x0002000000000001, 64)\n",
    "des._ip(B)\n",
    "des._inv_ip(B)  \n"
   ]
  },
  {
   "cell_type": "code",
   "execution_count": 3,
   "metadata": {},
   "outputs": [
    {
     "data": {
      "text/plain": [
       "True"
      ]
     },
     "execution_count": 3,
     "metadata": {},
     "output_type": "execute_result"
    }
   ],
   "source": [
    "## 2.\n",
    "from sage.crypto.block_cipher.des import DES\n",
    "from sage.crypto.block_cipher.des import convert_to_vector\n",
    "des = DES()\n",
    "B = convert_to_vector(0x0000008000000002, 64)\n",
    "C = des._ip(B)\n",
    "D = des._inv_ip(C) \n",
    "D==B \n"
   ]
  },
  {
   "cell_type": "code",
   "execution_count": 5,
   "metadata": {},
   "outputs": [
    {
     "data": {
      "text/plain": [
       "(1, 1, 1, 1, 0, 0, 0, 0, 1, 0, 1, 0, 1, 0, 1, 0, 1, 1, 1, 1, 0, 0, 0, 0, 1, 0, 1, 0, 1, 0, 1, 0, 1, 1, 0, 1, 1, 1, 0, 0, 1, 0, 1, 1, 0, 1, 0, 1, 0, 1, 0, 1, 0, 1, 1, 0, 0, 1, 0, 0, 0, 1, 0, 0)"
      ]
     },
     "execution_count": 5,
     "metadata": {},
     "output_type": "execute_result"
    }
   ],
   "source": [
    "\n",
    "####    c.) Round operation   #################################\n",
    "from sage.crypto.block_cipher.des import DES\n",
    "from sage.crypto.block_cipher.des import convert_to_vector\n",
    "des = DES()\n",
    "state1=convert_to_vector(0xfffffffff0aaf0aa, 64)\n",
    "L, R = state1[0:32], state1[32:64]\n",
    "K2=convert_to_vector(0x1b02effc7072,48)\n",
    "L, R = R, L + des._f(R,K2)\n",
    "state2 = vector(GF(2), 64, list(L)+list(R))\n",
    "state2\n",
    "### Answer: (1, 1, 1, 1, 0, 0, 0, 0, 1, 0, 1, 0, 1, 0, 1, 0, 1, 1, 1, 1,\n",
    "## 0, 0, 0, 0, 1, 0, 1, 0, 1, 0, 1, 0, 1, 1, 0, 1, 1, 1, 0, 0, 1, 0, 1, 1, \n",
    "## 0, 1, 0, 1, 0, 1, 0, 1, 0, 1, 1, 0, 0, 1, 0, 0, 0, 1, 0, 0)\n",
    "\n",
    "#################################################"
   ]
  },
  {
   "cell_type": "code",
   "execution_count": 6,
   "metadata": {},
   "outputs": [
    {
     "data": {
      "text/plain": [
       "(0, 1, 1, 1, 1, 0, 1, 0, 0, 0, 0, 1, 0, 1, 0, 1, 0, 1, 0, 1, 0, 1, 0, 1, 0, 1, 1, 1, 1, 0, 1, 0, 0, 0, 0, 1, 0, 1, 0, 1, 0, 1, 0, 1, 0, 1, 0, 1)"
      ]
     },
     "execution_count": 6,
     "metadata": {},
     "output_type": "execute_result"
    }
   ],
   "source": [
    "## d.) Expansion P-BOX applies the expansion function to ``right R``.\n",
    "\n",
    "from sage.crypto.block_cipher.des import DES\n",
    "from sage.crypto.block_cipher.des import convert_to_vector\n",
    "des = DES()\n",
    "state=convert_to_vector(0xfffffffff0aaf0aa, 64)\n",
    "L, R = state[0:32], state[32:64]\n",
    "des._expand(R)"
   ]
  },
  {
   "cell_type": "code",
   "execution_count": 7,
   "metadata": {},
   "outputs": [
    {
     "data": {
      "text/plain": [
       "(0, 1, 0, 1, 1, 1, 0, 0, 1, 0, 0, 0, 0, 0, 1, 0, 1, 0, 1, 1, 0, 1, 0, 1, 1, 0, 0, 1, 0, 1, 1, 1)"
      ]
     },
     "execution_count": 7,
     "metadata": {},
     "output_type": "execute_result"
    }
   ],
   "source": [
    "#### e.) Substitution box (S_box)\t ##########################\n",
    "from sage.crypto.block_cipher.des import DES\n",
    "des = DES()\n",
    "B = vector(GF(2), 48, [0,1,1,0,0,0,0,1,0,0,0,1,0,1,1,1,1,0,1,\n",
    "                       1,1,0,1,0,1,0,0,0,0,1,1,0,0,1,1,0,0,1,\n",
    "                       0,1,0,0,1,0,0,1,1,1])\n",
    "des.sbox_layer(B)\n",
    "\n",
    "## Answer:  (0, 1, 0, 1, 1, 1, 0, 0, 1, 0, 0, 0, 0, 0, 1, 0, 1, 0, 1, 1,\n",
    "##           0, 1, 0, 1, 1, 0, 0, 1, 0, 1, 1, 1)\n"
   ]
  },
  {
   "cell_type": "code",
   "execution_count": 1,
   "metadata": {},
   "outputs": [
    {
     "name": "stdout",
     "output_type": "stream",
     "text": [
      "[[(14, 4, 13, 1, 2, 15, 11, 8, 3, 10, 6, 12, 5, 9, 0, 7), (0, 15, 7, 4, 14, 2, 13, 1, 10, 6, 12, 11, 9, 5, 3, 8), (4, 1, 14, 8, 13, 6, 2, 11, 15, 12, 9, 7, 3, 10, 5, 0), (15, 12, 8, 2, 4, 9, 1, 7, 5, 11, 3, 14, 10, 0, 6, 13)], [(15, 1, 8, 14, 6, 11, 3, 4, 9, 7, 2, 13, 12, 0, 5, 10), (3, 13, 4, 7, 15, 2, 8, 14, 12, 0, 1, 10, 6, 9, 11, 5), (0, 14, 7, 11, 10, 4, 13, 1, 5, 8, 12, 6, 9, 3, 2, 15), (13, 8, 10, 1, 3, 15, 4, 2, 11, 6, 7, 12, 0, 5, 14, 9)], [(10, 0, 9, 14, 6, 3, 15, 5, 1, 13, 12, 7, 11, 4, 2, 8), (13, 7, 0, 9, 3, 4, 6, 10, 2, 8, 5, 14, 12, 11, 15, 1), (13, 6, 4, 9, 8, 15, 3, 0, 11, 1, 2, 12, 5, 10, 14, 7), (1, 10, 13, 0, 6, 9, 8, 7, 4, 15, 14, 3, 11, 5, 2, 12)], [(7, 13, 14, 3, 0, 6, 9, 10, 1, 2, 8, 5, 11, 12, 4, 15), (13, 8, 11, 5, 6, 15, 0, 3, 4, 7, 2, 12, 1, 10, 14, 9), (10, 6, 9, 0, 12, 11, 7, 13, 15, 1, 3, 14, 5, 2, 8, 4), (3, 15, 0, 6, 10, 1, 13, 8, 9, 4, 5, 11, 12, 7, 2, 14)], [(2, 12, 4, 1, 7, 10, 11, 6, 8, 5, 3, 15, 13, 0, 14, 9), (14, 11, 2, 12, 4, 7, 13, 1, 5, 0, 15, 10, 3, 9, 8, 6), (4, 2, 1, 11, 10, 13, 7, 8, 15, 9, 12, 5, 6, 3, 0, 14), (11, 8, 12, 7, 1, 14, 2, 13, 6, 15, 0, 9, 10, 4, 5, 3)], [(12, 1, 10, 15, 9, 2, 6, 8, 0, 13, 3, 4, 14, 7, 5, 11), (10, 15, 4, 2, 7, 12, 9, 5, 6, 1, 13, 14, 0, 11, 3, 8), (9, 14, 15, 5, 2, 8, 12, 3, 7, 0, 4, 10, 1, 13, 11, 6), (4, 3, 2, 12, 9, 5, 15, 10, 11, 14, 1, 7, 6, 0, 8, 13)], [(4, 11, 2, 14, 15, 0, 8, 13, 3, 12, 9, 7, 5, 10, 6, 1), (13, 0, 11, 7, 4, 9, 1, 10, 14, 3, 5, 12, 2, 15, 8, 6), (1, 4, 11, 13, 12, 3, 7, 14, 10, 15, 6, 8, 0, 5, 9, 2), (6, 11, 13, 8, 1, 4, 10, 7, 9, 5, 0, 15, 14, 2, 3, 12)], [(13, 2, 8, 4, 6, 15, 11, 1, 10, 9, 3, 14, 5, 0, 12, 7), (1, 15, 13, 8, 10, 3, 7, 4, 12, 5, 6, 11, 0, 14, 9, 2), (7, 11, 4, 1, 9, 12, 14, 2, 0, 6, 10, 13, 15, 3, 5, 8), (2, 1, 14, 7, 4, 10, 8, 13, 15, 12, 9, 0, 3, 5, 6, 11)]]\n"
     ]
    },
    {
     "data": {
      "text/plain": [
       "12"
      ]
     },
     "execution_count": 1,
     "metadata": {},
     "output_type": "execute_result"
    }
   ],
   "source": [
    "##### To get the output of S-box n for given input bits\n",
    "\n",
    "from sage.crypto.sboxes import DES_S1_1, DES_S1_2, DES_S1_3, DES_S1_4\n",
    "from sage.crypto.sboxes import DES_S2_1, DES_S2_2, DES_S2_3, DES_S2_4\n",
    "from sage.crypto.sboxes import DES_S3_1, DES_S3_2, DES_S3_3, DES_S3_4\n",
    "from sage.crypto.sboxes import DES_S4_1, DES_S4_2, DES_S4_3, DES_S4_4\n",
    "from sage.crypto.sboxes import DES_S5_1, DES_S5_2, DES_S5_3, DES_S5_4\n",
    "from sage.crypto.sboxes import DES_S6_1, DES_S6_2, DES_S6_3, DES_S6_4\n",
    "from sage.crypto.sboxes import DES_S7_1, DES_S7_2, DES_S7_3, DES_S7_4\n",
    "from sage.crypto.sboxes import DES_S8_1, DES_S8_2, DES_S8_3, DES_S8_4\n",
    "\n",
    "sboxes = [[DES_S1_1, DES_S1_2, DES_S1_3, DES_S1_4],\n",
    "          [DES_S2_1, DES_S2_2, DES_S2_3, DES_S2_4],\n",
    "          [DES_S3_1, DES_S3_2, DES_S3_3, DES_S3_4],\n",
    "          [DES_S4_1, DES_S4_2, DES_S4_3, DES_S4_4],\n",
    "          [DES_S5_1, DES_S5_2, DES_S5_3, DES_S5_4],\n",
    "          [DES_S6_1, DES_S6_2, DES_S6_3, DES_S6_4],\n",
    "          [DES_S7_1, DES_S7_2, DES_S7_3, DES_S7_4],\n",
    "          [DES_S8_1, DES_S8_2, DES_S8_3, DES_S8_4]]\n",
    "print(sboxes)\n",
    "def get_sbox(bits,n):  # Applies sbox n to six bit string str\n",
    "    row=2*bits[0]+bits[5]\n",
    "    col=8*bits[1]+4*bits[2]+2*bits[3]+bits[4]\n",
    "    return (sboxes[n-1][row][col])\n",
    "\t\n",
    "### 2.\n",
    "bits=(1,0,0,0,1,1)\n",
    "get_sbox(bits,1)\n",
    "\n",
    "## Answer: 12"
   ]
  },
  {
   "cell_type": "code",
   "execution_count": 9,
   "metadata": {},
   "outputs": [
    {
     "data": {
      "text/plain": [
       "13"
      ]
     },
     "execution_count": 9,
     "metadata": {},
     "output_type": "execute_result"
    }
   ],
   "source": [
    "## 3. \n",
    "bits=(0,0,0,0,0,0)\n",
    "get_sbox(bits,8)\n",
    "\n",
    "## Answer: 13\n"
   ]
  },
  {
   "cell_type": "code",
   "execution_count": 10,
   "metadata": {},
   "outputs": [
    {
     "data": {
      "text/plain": [
       "(0, 0, 1, 0, 0, 0, 1, 1, 0, 1, 0, 0, 1, 0, 1, 0, 1, 0, 1, 0, 1, 0, 0, 1, 1, 0, 1, 1, 1, 0, 1, 1)"
      ]
     },
     "execution_count": 10,
     "metadata": {},
     "output_type": "execute_result"
    }
   ],
   "source": [
    "from sage.crypto.block_cipher.des import DES\n",
    "des = DES()\n",
    "B = vector(GF(2), 32, [0,1,0,1,1,1,0,0,1,0,0,0,0,0,1,0,1,0,1,\n",
    "                       1,0,1,0,1,1,0,0,1,0,1,1,1])\n",
    "des._permutaion(B)\n",
    "\n",
    "#Answer: (0, 0, 1, 0, 0, 0, 1, 1, 0, 1, 0, 0, 1, 0, 1, 0, 1, 0, 1, 0, 1, 0,\n",
    "#     0, 1, 1, 0, 1, 1, 1, 0, 1, 1)\n"
   ]
  },
  {
   "cell_type": "code",
   "execution_count": 12,
   "metadata": {},
   "outputs": [
    {
     "data": {
      "text/plain": [
       "'690f5b0d9a26939b'"
      ]
     },
     "execution_count": 12,
     "metadata": {},
     "output_type": "execute_result"
    }
   ],
   "source": [
    "###Exercise 3 Encryption and Decryption #####################\t\n",
    "from sage.crypto.block_cipher.des import DES\n",
    "des = DES()\n",
    "P = 0x01A1D6D039776742\n",
    "K = 0x7CA110454A1A6E57\n",
    "#### a.)\n",
    "C = des.encrypt(plaintext=P, key=K); \n",
    "C.hex()"
   ]
  },
  {
   "cell_type": "code",
   "execution_count": 13,
   "metadata": {},
   "outputs": [
    {
     "data": {
      "text/plain": [
       "'1a1d6d039776742'"
      ]
     },
     "execution_count": 13,
     "metadata": {},
     "output_type": "execute_result"
    }
   ],
   "source": [
    "#### b.)Now decrypt back:\n",
    "des.decrypt(ciphertext=C, key=K).hex()\n"
   ]
  },
  {
   "cell_type": "code",
   "execution_count": 15,
   "metadata": {},
   "outputs": [
    {
     "name": "stdout",
     "output_type": "stream",
     "text": [
      "55b482c039236202\n",
      "ba7c109173029154\n",
      "25f93573e61076f8\n",
      "4eb67ab69870fcb0\n",
      "9929f47834e4e861\n",
      "6757f8b0298991c6\n",
      "9fffa43017022799\n",
      "7bab49653a114b66\n",
      "e61787da60369399\n",
      "997e4af091286363\n",
      "37a8d4b1360482d3\n",
      "7b00f837681c40b6\n",
      "a201f42a8079c57d\n",
      "2ac1155f29ebf\n",
      "14050d26efb1696f\n",
      "690f5b0d9a26939b\n"
     ]
    }
   ],
   "source": [
    "## c.) rounds outputs\n",
    "  \n",
    "for r in range(1, 17):\n",
    "     a=DES(rounds=r, doFinalRound=true).encrypt(P, K).hex()\n",
    "     print(a)"
   ]
  },
  {
   "cell_type": "code",
   "execution_count": 16,
   "metadata": {},
   "outputs": [
    {
     "data": {
      "text/plain": [
       "'123456789abcdef'"
      ]
     },
     "execution_count": 16,
     "metadata": {},
     "output_type": "execute_result"
    }
   ],
   "source": [
    "\n",
    "### d.) \n",
    "P = 0x0123456789ABCDEF\n",
    "K64 = 0x133457799BBCDFF1\n",
    "C = des.encrypt(plaintext=P, key=K64); C.hex()\n",
    "des.decrypt(ciphertext=C, key=K64).hex()\n"
   ]
  },
  {
   "cell_type": "code",
   "execution_count": 42,
   "metadata": {},
   "outputs": [
    {
     "name": "stdout",
     "output_type": "stream",
     "text": [
      "[0, 1, 235, 295, 530, 531, 825, 1061, 2066, 2302, 2596, 2597, 2832, 2892, 3126]\n"
     ]
    }
   ],
   "source": [
    "\n",
    "kk=[]\n",
    "\n",
    "for M in range(3127):\n",
    "\n",
    "    if  M==M^17 % 3127 :\n",
    "        kk.append(M)\n",
    "print(kk)\n",
    "#0, 1, 235, 295, 530, 531, 825, 1061, 2066, 2302, 2596, 2597, 2832, 2892, 3126"
   ]
  },
  {
   "cell_type": "code",
   "execution_count": 22,
   "metadata": {},
   "outputs": [
    {
     "data": {
      "text/plain": [
       "1"
      ]
     },
     "execution_count": 22,
     "metadata": {},
     "output_type": "execute_result"
    }
   ],
   "source": [
    "76% 3"
   ]
  },
  {
   "cell_type": "code",
   "execution_count": null,
   "metadata": {},
   "outputs": [],
   "source": []
  },
  {
   "cell_type": "code",
   "execution_count": null,
   "metadata": {},
   "outputs": [],
   "source": []
  }
 ],
 "metadata": {
  "kernelspec": {
   "display_name": "SageMath 9.2",
   "language": "sage",
   "name": "sagemath"
  },
  "language_info": {
   "codemirror_mode": {
    "name": "ipython",
    "version": 3
   },
   "file_extension": ".py",
   "mimetype": "text/x-python",
   "name": "python",
   "nbconvert_exporter": "python",
   "pygments_lexer": "ipython3",
   "version": "3.7.7"
  }
 },
 "nbformat": 4,
 "nbformat_minor": 4
}
