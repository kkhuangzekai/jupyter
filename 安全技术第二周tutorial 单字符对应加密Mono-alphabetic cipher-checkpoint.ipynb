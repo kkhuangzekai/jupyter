{
 "cells": [
  {
   "cell_type": "code",
   "execution_count": 1,
   "metadata": {},
   "outputs": [],
   "source": [
    "alpha=\"abcdefghijklmnopqrstuvwxyz\"\n",
    "\n",
    "def is_alpha_char(c):\n",
    "    return (c.lower() in alpha)\n",
    "\n",
    "def get_alpha_index(c):\n",
    "    return alpha.index(c.lower())\n",
    "\n",
    "def get_key_index(c,key):\n",
    "    return key.index(c.upper())\n",
    "\n",
    "def encrypt_ma(k, plaintext):\n",
    "     ciphertext = \"\"\n",
    "     if len(k)==26:\n",
    "         key=k\n",
    "         for j in range(len(plaintext)):\n",
    "             p=plaintext[j]\n",
    "             if is_alpha_char(p):\n",
    "                 x = get_alpha_index(p)\n",
    "                 c = key[x]\n",
    "             else:\n",
    "                 c = p\n",
    "             ciphertext +=c\n",
    "         return ciphertext\n",
    "     else:\n",
    "         print(\"wrong key size\")\n",
    "\n",
    "def decrypt_ma(k, ciphertext):\n",
    "     plaintext = \"\"\n",
    "     if len(k)==26:\n",
    "         key=k\n",
    "         for j in range(len(ciphertext)):\n",
    "             c=ciphertext[j]\n",
    "             if is_alpha_char(c):\n",
    "                 x = get_key_index(c,key)\n",
    "                 p = alpha[x]\n",
    "             else:\n",
    "                 p = c\n",
    "             plaintext +=p\n",
    "         return plaintext\n",
    "     else:\n",
    "         print(\"wrong key size\")\n",
    "\n",
    "#### Example  ###################\n",
    "### k=\"DKVQFIBJWPESCXHTMYAUOLRGZN\"\n",
    "## myplaintext = \"IfwewIshtoreplaceletters\"           \n",
    "## encrypt_ma(k, myplaintext)\n",
    "## ciphertext =\"WIRFRWAJUHYFTSDVFSFUUFYA\"\n",
    "## decrypt_ma(k, ciphertext)"
   ]
  },
  {
   "cell_type": "code",
   "execution_count": 5,
   "metadata": {},
   "outputs": [
    {
     "data": {
      "text/plain": [
       "[[0, 5, 10, 15, 20],\n",
       " [1, 6, 11, 16, 21],\n",
       " [2, 7, 12, 17, 22],\n",
       " [3, 8, 13, 18, 23],\n",
       " [4, 9, 14, 19, 24]]"
      ]
     },
     "execution_count": 5,
     "metadata": {},
     "output_type": "execute_result"
    }
   ],
   "source": [
    "[[i*5+j for i in range(5)]for j in range(5)] "
   ]
  },
  {
   "cell_type": "code",
   "execution_count": 8,
   "metadata": {},
   "outputs": [],
   "source": [
    "k=\"DKVQFIBJWPESCXHTMYAUOLRGZN\""
   ]
  },
  {
   "cell_type": "code",
   "execution_count": 11,
   "metadata": {},
   "outputs": [
    {
     "data": {
      "text/plain": [
       "'WIRFRWAJUHYFTSDVFSFUUFYA'"
      ]
     },
     "execution_count": 11,
     "metadata": {},
     "output_type": "execute_result"
    }
   ],
   "source": [
    "\n",
    "plaintext=\"IfwewIshtoreplaceletters\"\n",
    "encrypt_ma(k, plaintext)"
   ]
  }
 ],
 "metadata": {
  "kernelspec": {
   "display_name": "Python 3",
   "language": "python",
   "name": "python3"
  },
  "language_info": {
   "codemirror_mode": {
    "name": "ipython",
    "version": 3
   },
   "file_extension": ".py",
   "mimetype": "text/x-python",
   "name": "python",
   "nbconvert_exporter": "python",
   "pygments_lexer": "ipython3",
   "version": "3.7.7"
  }
 },
 "nbformat": 4,
 "nbformat_minor": 4
}
