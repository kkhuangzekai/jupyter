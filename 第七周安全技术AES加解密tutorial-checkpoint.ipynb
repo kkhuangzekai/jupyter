{
 "cells": [
  {
   "cell_type": "code",
   "execution_count": 1,
   "metadata": {},
   "outputs": [
    {
     "name": "stdout",
     "output_type": "stream",
     "text": [
      "198\n",
      "0b11000110\n",
      "十六进制是 0xc6\n"
     ]
    }
   ],
   "source": [
    "R.<x> = PolynomialRing(GF(2^8), 'x')    ##写出伽罗华域的计算函数\n",
    "S.<a> = QuotientRing(R, R.ideal(x^8 + x^4 + x^3 + x + 1))\n",
    "\n",
    "def poly_int(gf):\n",
    "   base= x^8 + x^4 + x^3 + x + 1\n",
    "   gf_mod_b = (gf % base)\n",
    "   bitvec = ''.join(map(str, gf_mod_b.list()));\n",
    "   _int= Integer(str(bitvec)[::-1], base=2);    ##[::-1]意味着从后往前读，以基地为2的n次方遍历相加\n",
    "   return _int\n",
    "\n",
    "_02 = x\n",
    "_63 = x^6+x^5+x+1  \n",
    "result = _02 * _63\n",
    "print(poly_int(result))    ##伽罗华域的计算结果转成默认的十进制\n",
    "print(bin(poly_int(result)))\n",
    "print('十六进制是',hex(poly_int(result)))"
   ]
  },
  {
   "cell_type": "code",
   "execution_count": 2,
   "metadata": {},
   "outputs": [
    {
     "data": {
      "text/plain": [
       "'0x62'"
      ]
     },
     "execution_count": 2,
     "metadata": {},
     "output_type": "execute_result"
    }
   ],
   "source": [
    "## b.) [02 03 01 01] * [63 F2 7D D4]’\n",
    "R.<x> = PolynomialRing(GF(2^8), 'x')\n",
    "S.<a> = QuotientRing(R, R.ideal(x^8 + x^4 + x^3 + x + 1))\n",
    "\n",
    "\n",
    "def poly_int(gf):\n",
    "   base= x^8 + x^4 + x^3 + x + 1\n",
    "   gf_mod_b = (gf % base)\n",
    "   bitvec = ''.join(map(str, gf_mod_b.list()));\n",
    "   _int= Integer(str(bitvec)[::-1], base=2);\n",
    "   return _int\n",
    "\n",
    "_02=x                      ##查表可得以上信息，不然要转成二进制，再对应项相加（其实也很简单）\n",
    "_03=x+1\n",
    "_01=1\n",
    "_63=x^6+x^5+x+1\n",
    "_F2=x^7+x^6+x^5+x^4+x\n",
    "_7D=x^6+x^5+x^4+x^3+x^2+1\n",
    "_D4=x^7+x^6+x^4+x^2\n",
    "result = poly_int(_02*_63) ^^ poly_int(_03*_F2) ^^ poly_int(_01*_7D) ^^ poly_int(_01*_D4)\n",
    "hex(result)"
   ]
  },
  {
   "cell_type": "code",
   "execution_count": 3,
   "metadata": {},
   "outputs": [
    {
     "name": "stdout",
     "output_type": "stream",
     "text": [
      "2b7e151628aed2a6abf7158809cf4f3c\n",
      "a0fafe1788542cb123a339392a6c7605\n",
      "f2c295f27a96b9435935807a7359f67f\n",
      "3d80477d4716fe3e1e237e446d7a883b\n",
      "ef44a541a8525b7fb671253bdb0bad00\n",
      "d4d1c6f87c839d87caf2b8bc11f915bc\n",
      "6d88a37a110b3efddbf98641ca0093fd\n",
      "4e54f70e5f5fc9f384a64fb24ea6dc4f\n",
      "ead27321b58dbad2312bf5607f8d292f\n",
      "ac7766f319fadc2128d12941575c006e\n",
      "d014f9a8c9ee2589e13f0cc8b6630ca6\n",
      "展示第i论的key:\n",
      "2b7e151628aed2a6abf7158809cf4f3c\n"
     ]
    }
   ],
   "source": [
    "### 2a.) Key Expansion: Generate the AES-128 round keys using the key\n",
    "\n",
    "\n",
    "from sage.crypto.mq.rijndael_gf import RijndaelGF\n",
    "aes = RijndaelGF(4, 4)\n",
    "\n",
    "K='2b7e151628aed2a6abf7158809cf4f3c'\n",
    "key_state = aes._hex_to_GF(K)\n",
    "roundKeys = aes.expand_key(key_state)\n",
    "\n",
    "#### To show the round keys\n",
    "for j in range(len(roundKeys)):\n",
    "    kk=aes._GF_to_hex(roundKeys[j])   ##利用aes._GF_to_hex函数  快速地把galois多项式转成16进制\n",
    "    print(kk)\n",
    "### to show a ith round key\n",
    "print('展示第i论的key:')\n",
    "print(aes._GF_to_hex(roundKeys[0]))"
   ]
  },
  {
   "cell_type": "code",
   "execution_count": null,
   "metadata": {},
   "outputs": [],
   "source": []
  },
  {
   "cell_type": "code",
   "execution_count": 4,
   "metadata": {},
   "outputs": [
    {
     "data": {
      "text/plain": [
       "'1c8b86628e22f92fb32608c1a8d5932d'"
      ]
     },
     "execution_count": 4,
     "metadata": {},
     "output_type": "execute_result"
    }
   ],
   "source": [
    "#### 2b.) SubBytes: b=0xc4cedcabe694694e4b23bfdd6fb522fa    进入替换环节\n",
    "from sage.crypto.mq.rijndael_gf import RijndaelGF\n",
    "aes= RijndaelGF(4, 4)\n",
    "\n",
    "b='c4cedcabe694694e4b23bfdd6fb522fa'\n",
    "\n",
    "state = aes._hex_to_GF(b)  ##SUB-BYTE同样是在伽罗华域内的演算\n",
    "output = aes.sub_bytes(state, algorithm='encrypt')  ## algorithm只能选择 encrypt 或者解密，这是固定算法\n",
    "aes._GF_to_hex(output)"
   ]
  },
  {
   "cell_type": "code",
   "execution_count": 5,
   "metadata": {},
   "outputs": [
    {
     "data": {
      "text/plain": [
       "'1c22082d8e269362b3d5862fa88bf9c1'"
      ]
     },
     "execution_count": 5,
     "metadata": {},
     "output_type": "execute_result"
    }
   ],
   "source": [
    "######  2c.) shiftRows: b=0x1c8b86628e22f92fb32608c1a8d5932d  进入移位环节\n",
    "\n",
    "\n",
    "from sage.crypto.mq.rijndael_gf import RijndaelGF\n",
    "aes= RijndaelGF(4, 4)\n",
    "\n",
    "b='1c8b86628e22f92fb32608c1a8d5932d'\n",
    "\n",
    "state = aes._hex_to_GF(b)\n",
    "output = aes.shift_rows(state, algorithm='encrypt')\n",
    "aes._GF_to_hex(output)"
   ]
  },
  {
   "cell_type": "code",
   "execution_count": 6,
   "metadata": {},
   "outputs": [
    {
     "data": {
      "text/plain": [
       "'527342aeb92755ef94043dcfdd5afef2'"
      ]
     },
     "execution_count": 6,
     "metadata": {},
     "output_type": "execute_result"
    }
   ],
   "source": [
    "######  2d.) MixColums: b=0xafb73eeb1cd1b85162280f27fb20d585  进入混合环节\n",
    "from sage.crypto.mq.rijndael_gf import RijndaelGF\n",
    "aes= RijndaelGF(4, 4)\n",
    "\n",
    "b='afb73eeb1cd1b85162280f27fb20d585'\n",
    "\n",
    "state = aes._hex_to_GF(b)\n",
    "output = aes.mix_columns(state, algorithm='encrypt')\n",
    "aes._GF_to_hex(output)"
   ]
  },
  {
   "cell_type": "code",
   "execution_count": 7,
   "metadata": {},
   "outputs": [
    {
     "data": {
      "text/plain": [
       "'55286ccfefae006163fd79ba4c9a5721'"
      ]
     },
     "execution_count": 7,
     "metadata": {},
     "output_type": "execute_result"
    }
   ],
   "source": [
    "####### 2e.) e.) AddRoundKey: round 5    进入加钥匙环节\n",
    "from sage.crypto.mq.rijndael_gf import RijndaelGF\n",
    "aes= RijndaelGF(4, 4)\n",
    "\n",
    "b='36339d50f9b539269f2c092dc4406d23' \n",
    "key='7CC78D0E22754E667E24573F454A6531'\n",
    "\n",
    "## generate round keys\n",
    "key_state = aes._hex_to_GF(key)\n",
    "roundKeys = aes.expand_key(key_state)\n",
    "\n",
    "state = aes._hex_to_GF(b)\n",
    "output = aes.add_round_key(state, roundKeys[10])  ##AES加钥匙环节只能到11轮，数字最大只能为10  思考为什么  ？？\n",
    "aes._GF_to_hex(output)"
   ]
  },
  {
   "cell_type": "code",
   "execution_count": 8,
   "metadata": {},
   "outputs": [
    {
     "name": "stdout",
     "output_type": "stream",
     "text": [
      "11110011111100110010001010010010010011010110010010010100111111010001010011011110111010000101110001100011100111010100001110011110\n"
     ]
    },
    {
     "data": {
      "text/plain": [
       "'0x41a675eb9706e35b17d1ddf1fcd0c9660753f886a7a6069085802bfb1eab60035e01243972026100a7d1c808df233bf69d1840ace6'"
      ]
     },
     "execution_count": 8,
     "metadata": {},
     "output_type": "execute_result"
    }
   ],
   "source": [
    "##### 3a.) Using AES-128 encrypt the plaintext \n",
    "from sage.crypto.util import ascii_to_bin\n",
    "from sage.crypto.mq.rijndael_gf import RijndaelGF\n",
    "aes = RijndaelGF(4, 4)\n",
    "\n",
    "P = \"ILIKETHISCOURSE!\"\n",
    "K = 0x2b7e151628aed2a6abf7158809cf4f3c\n",
    "\n",
    "P_bin = str(ascii_to_bin(P))  ##直接把P从字符串转成二进制，非常好用. 然后再转回字符串才能用函数aes.encrypt读取\n",
    "### convert K to binary string from hex\n",
    "bin(K)\n",
    "key_bin = '00101011011111100001010100010110001010001010111011010010101001101010101111110111000101011000100000001001110011110100111100111100'\n",
    "\n",
    "### now encrypt\n",
    "ciphertext = aes.encrypt(P_bin, key_bin, format='binary')\n",
    "\n",
    "\n",
    "print(ciphertext)\n",
    "hex(int(ciphertext))\n"
   ]
  },
  {
   "cell_type": "code",
   "execution_count": 9,
   "metadata": {},
   "outputs": [
    {
     "data": {
      "text/plain": [
       "'ILIKETHISCOURSE!'"
      ]
     },
     "execution_count": 9,
     "metadata": {},
     "output_type": "execute_result"
    }
   ],
   "source": [
    "#### 3b.) Now decrypt\n",
    "from sage.crypto.util import bin_to_ascii\n",
    "\n",
    "plaintext = aes.decrypt(ciphertext, key_bin, format='binary')\n",
    "plaintext\n",
    "bin_to_ascii(plaintext)"
   ]
  },
  {
   "cell_type": "code",
   "execution_count": 10,
   "metadata": {},
   "outputs": [
    {
     "name": "stdout",
     "output_type": "stream",
     "text": [
      "密文是 1f55761ee15ffe8110ac40f31dadd561\n",
      "明文是 fde3bad205e5d0d73547964ef1fe37f1\n"
     ]
    }
   ],
   "source": [
    "##### 3c.) Using AES-128 encrypt the plaintext\n",
    " \n",
    "from sage.crypto.util import ascii_to_bin\n",
    "from sage.crypto.mq.rijndael_gf import RijndaelGF\n",
    "aes = RijndaelGF(4, 4)  ##使用块长度为 4 和密钥长度为 4来构建 Rijndael-GF  默认输入格式是十六进制字符串，因此看上去很短，\n",
    " \n",
    "P =   'fde3bad205e5d0d73547964ef1fe37f1'##实际上是32个2进制位*4组=128位  AES-128\n",
    "key = '2b7e151628aed2a6abf7158809cf4f3c'\n",
    "### now encrypt\n",
    "ciphertext = aes.encrypt(P, key);\n",
    "print('密文是',ciphertext)\n",
    "\n",
    "##'1f55761ee15ffe8110ac40f31dadd561'\n",
    "\n",
    "##### Now decrypt back\n",
    "plaintext = aes.decrypt(ciphertext, key); \n",
    "print('明文是',plaintext)\n",
    "#'fde3bad205e5d0d73547964ef1fe37f1'"
   ]
  },
  {
   "cell_type": "code",
   "execution_count": 11,
   "metadata": {},
   "outputs": [
    {
     "name": "stdout",
     "output_type": "stream",
     "text": [
      "密文是 dda97ca4864cdfe06eaf70a0ec0d7191\n",
      "明文是 00112233445566778899aabbccddeeff\n"
     ]
    },
    {
     "data": {
      "text/plain": [
       "True"
      ]
     },
     "execution_count": 11,
     "metadata": {},
     "output_type": "execute_result"
    }
   ],
   "source": [
    "##### 3d.) Using AES-192 encrypt the plaintext\n",
    "from sage.crypto.mq.rijndael_gf import RijndaelGF\n",
    "aes = RijndaelGF(4, 6)  ##使用块长度为 4 和密钥长度为 6来构建 Rijndael-GF   这是192位=128+（6-4）*32 AES-192\n",
    "\n",
    "P='00112233445566778899aabbccddeeff'\n",
    "K='000102030405060708090a0b0c0d0e0f1011121314151617'\n",
    "\n",
    "### now encrypt\n",
    "ciphertext = aes.encrypt(P, K); print('密文是',ciphertext)\n",
    "#'dda97ca4864cdfe06eaf70a0ec0d7191'\n",
    "\n",
    "####  Now decrypt\n",
    "plaintext = aes.decrypt(ciphertext, K); print('明文是',plaintext)\n",
    "plaintext == P\n",
    "#TRUE\n"
   ]
  },
  {
   "cell_type": "code",
   "execution_count": 13,
   "metadata": {},
   "outputs": [
    {
     "name": "stdout",
     "output_type": "stream",
     "text": [
      "64\n",
      "密文是 b6508904a071639f672d69a9949e16a4\n",
      "明文是 00112233445566778899aabbccddeeff\n"
     ]
    },
    {
     "data": {
      "text/plain": [
       "True"
      ]
     },
     "execution_count": 13,
     "metadata": {},
     "output_type": "execute_result"
    }
   ],
   "source": [
    "##### 自己做的 用 AES-256 encrypt the plaintext\n",
    "from sage.crypto.mq.rijndael_gf import RijndaelGF\n",
    "aes = RijndaelGF(4, 8)  ##使用块长度为 4 和密钥长度为 6来构建 Rijndael-GF   这里轮秘钥是256位=8*32 AES-256 也就是64个16进制数\n",
    "\n",
    "P='00112233445566778899aabbccddeeff'\n",
    "K='2b7e151628aed2a6abf7158809cf4f3c2b7e151628aed2a6abf7158809cf4f3c'\n",
    "print(len(K))\n",
    "### now encrypt\n",
    "ciphertext = aes.encrypt(P, K); print('密文是',ciphertext)\n",
    "#'dda97ca4864cdfe06eaf70a0ec0d7191'\n",
    "\n",
    "####  Now decrypt\n",
    "plaintext = aes.decrypt(ciphertext, K); print('明文是',plaintext)\n",
    "plaintext == P\n",
    "#TRUE"
   ]
  },
  {
   "cell_type": "code",
   "execution_count": null,
   "metadata": {},
   "outputs": [],
   "source": []
  },
  {
   "cell_type": "code",
   "execution_count": null,
   "metadata": {},
   "outputs": [],
   "source": []
  }
 ],
 "metadata": {
  "kernelspec": {
   "display_name": "SageMath 9.2",
   "language": "sage",
   "name": "sagemath"
  },
  "language_info": {
   "codemirror_mode": {
    "name": "ipython",
    "version": 3
   },
   "file_extension": ".py",
   "mimetype": "text/x-python",
   "name": "python",
   "nbconvert_exporter": "python",
   "pygments_lexer": "ipython3",
   "version": "3.7.7"
  }
 },
 "nbformat": 4,
 "nbformat_minor": 4
}
