{
 "cells": [
  {
   "cell_type": "code",
   "execution_count": 6,
   "metadata": {},
   "outputs": [
    {
     "name": "stdout",
     "output_type": "stream",
     "text": [
      "train_index [2 3] test_index [0 1]\n",
      "train_index [0 1] test_index [2 3]\n",
      "train_X [[1 2]\n",
      " [3 4]]\n",
      "test_X [[1 2]\n",
      " [3 4]]\n"
     ]
    }
   ],
   "source": [
    "import numpy as np\n",
    "from sklearn.model_selection import KFold\n",
    "X = np.array([[1, 2], [3, 4], [1, 2], [3, 4]])\n",
    "#y = np.array([1, 2, 3, 4])\n",
    " \n",
    "kf = KFold(n_splits=2)\n",
    "#2折交叉验证，将数据分为两份即前后对半分，每次取一份作为test集\n",
    "for train_index, test_index in kf.split(X):\n",
    "    print('train_index', train_index, 'test_index', test_index)\n",
    "    #train_index与test_index为下标\n",
    "    train_X = X[train_index]\n",
    "    test_X= X[test_index]\n",
    "print(\"train_X\",train_X)\n",
    "print(\"test_X\",test_X)\n"
   ]
  },
  {
   "cell_type": "code",
   "execution_count": 8,
   "metadata": {},
   "outputs": [
    {
     "name": "stdout",
     "output_type": "stream",
     "text": [
      "1\n",
      "train_index [2 3 4 5] test_index [0 1]\n",
      "train_Y [[ 5  6]\n",
      " [ 7  8]\n",
      " [ 9 10]\n",
      " [11 12]]\n",
      "test_Y [[1 2]\n",
      " [3 4]]\n",
      "2\n",
      "train_index [0 1 4 5] test_index [2 3]\n",
      "train_Y [[ 1  2]\n",
      " [ 3  4]\n",
      " [ 9 10]\n",
      " [11 12]]\n",
      "test_Y [[5 6]\n",
      " [7 8]]\n",
      "3\n",
      "train_index [0 1 2 3 5] test_index [4]\n",
      "train_Y [[ 1  2]\n",
      " [ 3  4]\n",
      " [ 5  6]\n",
      " [ 7  8]\n",
      " [11 12]]\n",
      "test_Y [[ 9 10]]\n",
      "4\n",
      "train_index [0 1 2 3 4] test_index [5]\n",
      "train_Y [[ 1  2]\n",
      " [ 3  4]\n",
      " [ 5  6]\n",
      " [ 7  8]\n",
      " [ 9 10]]\n",
      "test_Y [[11 12]]\n"
     ]
    }
   ],
   "source": [
    "import numpy as np\n",
    "from sklearn.model_selection import KFold\n",
    "Y = np.array([[1, 2], [3, 4], [5, 6], [7, 8],[9,10],[11,12]])\n",
    "#y = np.array([1, 2, 3, 4])\n",
    "i=0\n",
    "kf = KFold(n_splits=5)\n",
    "#2折交叉验证，将数据分为两份即前后对半分，每次取一份作为test集\n",
    "for train_index, test_index in kf.split(Y):\n",
    "    i=i+1\n",
    "    print(i)\n",
    "    print('train_index', train_index, 'test_index', test_index)\n",
    "    #train_index与test_index为下标\n",
    "    train_Y = Y[train_index]\n",
    "    test_Y= Y[test_index]\n",
    " \n",
    "    print(\"train_Y\",train_Y)\n",
    "    print(\"test_Y\",test_Y)\n"
   ]
  }
 ],
 "metadata": {
  "kernelspec": {
   "display_name": "Python 3",
   "language": "python",
   "name": "python3"
  },
  "language_info": {
   "codemirror_mode": {
    "name": "ipython",
    "version": 3
   },
   "file_extension": ".py",
   "mimetype": "text/x-python",
   "name": "python",
   "nbconvert_exporter": "python",
   "pygments_lexer": "ipython3",
   "version": "3.8.5"
  }
 },
 "nbformat": 4,
 "nbformat_minor": 4
}
