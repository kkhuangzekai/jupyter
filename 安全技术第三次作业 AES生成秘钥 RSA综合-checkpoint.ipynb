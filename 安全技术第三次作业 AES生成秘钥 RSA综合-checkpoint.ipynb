{
 "cells": [
  {
   "cell_type": "code",
   "execution_count": 1,
   "metadata": {},
   "outputs": [
    {
     "name": "stdout",
     "output_type": "stream",
     "text": [
      "000102030405060708090a0b0c0d0e0f\n",
      "101112131415171858f1aff95cf4a9fe\n",
      "54fda3f558f0adfa48e1bfe95cf4a8f1\n",
      "e5330eb3b9c7a74ded3a04b8b5caa942\n",
      "fd2b16aba1dfbe5a7f9db081c65a17cc\n",
      "2b6013749eaaba366381ac9dc25e12c7\n",
      "2f5476a4e90e6168c26e721c5cc4c82a\n",
      "3f4564b7fd1b7670906c27f079624698\n",
      "bb0c3484e7c8fcaed88d98192596ee69\n",
      "2044decf59269857e22aacd305e2507d\n",
      "dd6fc864f8f9260df9b3098ea09591d9\n",
      "42bf3d0a475d6d779a32a51362cb831e\n",
      "665f7b24c6caeafd8475d7f7c328ba80\n"
     ]
    }
   ],
   "source": [
    "\n",
    "#a.) Generate the AES-192 round keys using the key ‘K’.\n",
    "from sage.crypto.mq.rijndael_gf import RijndaelGF\n",
    "aes = RijndaelGF(4, 6) \n",
    "K ='000102030405060708090a0b0c0d0e0f1011121314151718'\n",
    "key_state = aes._hex_to_GF(K)\n",
    "\n",
    "roundKeys = aes.expand_key(key_state) \n",
    "#### To show the round keys  AES\n",
    "for j in range(len(roundKeys)):\n",
    "     a=aes._GF_to_hex(roundKeys[j])\n",
    "     print(a)"
   ]
  },
  {
   "cell_type": "code",
   "execution_count": 2,
   "metadata": {},
   "outputs": [
    {
     "data": {
      "text/plain": [
       "'638293c31bfc33f5c4ee1628c14beaac'"
      ]
     },
     "execution_count": 2,
     "metadata": {},
     "output_type": "execute_result"
    }
   ],
   "source": [
    "from sage.crypto.mq.rijndael_gf import RijndaelGF\n",
    "aes = RijndaelGF(4, 6)\n",
    "b = '00112233445566778899ffeeddccbbaa'\n",
    "K ='000102030405060708090a0b0c0d0e0f1011121314151617'\n",
    "state = aes._hex_to_GF(b)\n",
    "#SubBytes :\n",
    "output = aes.sub_bytes(state, algorithm='encrypt')\n",
    "aes._GF_to_hex(output)\n",
    "\n",
    "\n",
    "\n"
   ]
  },
  {
   "cell_type": "code",
   "execution_count": 3,
   "metadata": {},
   "outputs": [
    {
     "data": {
      "text/plain": [
       "'0055ffaa4499bb3388cc2277dd1166ee'"
      ]
     },
     "execution_count": 3,
     "metadata": {},
     "output_type": "execute_result"
    }
   ],
   "source": [
    "#ShiftRows Sage code:\n",
    "output = aes.shift_rows(state, algorithm='encrypt')\n",
    "aes._GF_to_hex(output)"
   ]
  },
  {
   "cell_type": "code",
   "execution_count": 4,
   "metadata": {},
   "outputs": [
    {
     "data": {
      "text/plain": [
       "'2277005566334411aa55dd22ff229944'"
      ]
     },
     "execution_count": 4,
     "metadata": {},
     "output_type": "execute_result"
    }
   ],
   "source": [
    "\n",
    "#MixColumn Sage code: \n",
    "output = aes.mix_columns(state, algorithm='encrypt')\n",
    "aes._GF_to_hex(output)"
   ]
  },
  {
   "cell_type": "code",
   "execution_count": null,
   "metadata": {},
   "outputs": [],
   "source": []
  },
  {
   "cell_type": "code",
   "execution_count": 5,
   "metadata": {},
   "outputs": [
    {
     "data": {
      "text/plain": [
       "'1000302050407060d0df0d17818f4f54'"
      ]
     },
     "execution_count": 5,
     "metadata": {},
     "output_type": "execute_result"
    }
   ],
   "source": [
    "\n",
    "#AddRoundKeys: \n",
    "key_state = aes._hex_to_GF(K)\n",
    "roundKeys = aes.expand_key(key_state)\n",
    "state = aes._hex_to_GF(b)\n",
    "output = aes.add_round_key(state, roundKeys[1])\n",
    "aes._GF_to_hex(output)"
   ]
  },
  {
   "cell_type": "code",
   "execution_count": 6,
   "metadata": {},
   "outputs": [
    {
     "data": {
      "text/plain": [
       "11 * 13"
      ]
     },
     "execution_count": 6,
     "metadata": {},
     "output_type": "execute_result"
    }
   ],
   "source": [
    "#6)RSA Question, please show your code and results in your answers.\n",
    "#a.) The RSA key ‘n’ is 143. What are the factors (p and q) of ‘n’?\n",
    "\n",
    "\n",
    "n = 143\n",
    "factor(n)\n",
    "#result:    p = 11, and q=13"
   ]
  },
  {
   "cell_type": "code",
   "execution_count": 7,
   "metadata": {},
   "outputs": [
    {
     "name": "stdout",
     "output_type": "stream",
     "text": [
      "e =  17\n",
      "d =  113\n",
      "public key =  (17, 143)\n",
      "private key =  113\n"
     ]
    }
   ],
   "source": [
    "#\n",
    "\n",
    "#b.) Using (a), what are the corresponding public and the private keys?\n",
    "\n",
    "#Corresponding public and the private keys\n",
    "n = 143\n",
    "p = 11\n",
    "q = 13\n",
    "phi = (p-1)*(q-1) \n",
    "e = ZZ.random_element(phi)\n",
    "while gcd(e, phi) != 1:\n",
    " e = ZZ.random_element(phi) \n",
    "d = e.inverse_mod(phi)\n",
    "public_key = (e, n)\n",
    "private_key = d\n",
    "print(\"e = \", e); print(\"d = \", d); \n",
    "print(\"public key = \", public_key)\n",
    "print(\"private key = \", private_key)"
   ]
  },
  {
   "cell_type": "code",
   "execution_count": 9,
   "metadata": {},
   "outputs": [
    {
     "name": "stdout",
     "output_type": "stream",
     "text": [
      "HZK is 311\n"
     ]
    },
    {
     "data": {
      "text/plain": [
       "False"
      ]
     },
     "execution_count": 9,
     "metadata": {},
     "output_type": "execute_result"
    }
   ],
   "source": [
    "##c.) The RSA encrypted message ‘C’ is received by \n",
    "#both Alice and Bob whose private and public keys are ‘da, (ea, na)’ and ‘db, (eb, nb)’ respectively.\n",
    "#If the original message before the encryption is ‘M’, who is the intended recipient of the message?\n",
    "M = 200; C = 414; ea = 631; na = 841; da = 743; eb = 205; nb = 551; db = 445\n",
    "## decrypt C with Alice's private key da and public modulus na,\n",
    "HZK = power_mod(C, da, na);\n",
    "print('HZK is',HZK) \n",
    "## Check if HZK is equals to M\n",
    "HZK == M ## result: False"
   ]
  },
  {
   "cell_type": "code",
   "execution_count": null,
   "metadata": {},
   "outputs": [],
   "source": [
    "## Now decrypt C with Bob's's private key db and public modulus nb,\n",
    "HZK = power_mod(C, db, nb) \n",
    "## Check if HZK is equals to M\n",
    "HZK == M ## result: True [1 mark]\n",
    "#Therefore 'Bob' is the intended recipient of the message"
   ]
  },
  {
   "cell_type": "code",
   "execution_count": null,
   "metadata": {},
   "outputs": [],
   "source": []
  },
  {
   "cell_type": "code",
   "execution_count": null,
   "metadata": {},
   "outputs": [],
   "source": []
  }
 ],
 "metadata": {
  "kernelspec": {
   "display_name": "SageMath 9.2",
   "language": "sage",
   "name": "sagemath"
  },
  "language_info": {
   "codemirror_mode": {
    "name": "ipython",
    "version": 3
   },
   "file_extension": ".py",
   "mimetype": "text/x-python",
   "name": "python",
   "nbconvert_exporter": "python",
   "pygments_lexer": "ipython3",
   "version": "3.7.7"
  }
 },
 "nbformat": 4,
 "nbformat_minor": 4
}
