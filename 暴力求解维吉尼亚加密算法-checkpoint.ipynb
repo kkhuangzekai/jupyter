{
 "cells": [
  {
   "cell_type": "code",
   "execution_count": 8,
   "metadata": {},
   "outputs": [
    {
     "name": "stdout",
     "output_type": "stream",
     "text": [
      "43\n",
      "43\n"
     ]
    }
   ],
   "source": [
    "a=\"COGMEIKQGRDAQXNBFFGCWCVDDNDBQEVTBDVULGHIEAB\"\n",
    "c=\"MR MUSTARD WITH THE CANDLESTICK IN THE HALL\"\n",
    "b=len(a)\n",
    "print(b)\n",
    "print(len(\"MR MUSTARD WITH THE CANDLESTICK IN THE HALL\"))"
   ]
  },
  {
   "cell_type": "code",
   "execution_count": null,
   "metadata": {},
   "outputs": [],
   "source": [
    "str=input(\"请输入一串字符:\")\n",
    "resoult={}\n",
    "for i in str:\n",
    "    resoult[i]=str.count(i)\n",
    "print(resoult)"
   ]
  },
  {
   "cell_type": "code",
   "execution_count": 12,
   "metadata": {},
   "outputs": [
    {
     "name": "stdout",
     "output_type": "stream",
     "text": [
      " 1  2  3 \n",
      " 2  2  1 \n"
     ]
    }
   ],
   "source": [
    "cipher = 'COGMEIKQGRDAQXNBFFGCWCVDDNDBQEVTBDVULGHIEAB'\n",
    "\n",
    "def find_key_length(cipher):\n",
    "    '''shift and fing the most repeats of the cipher'''\n",
    "    MAX_LEN_REP = 10\n",
    "    shift = [ None ]\n",
    "    length = len(cipher)\n",
    "    for i in range(1, length//MAX_LEN_REP):\n",
    "        repeat = 0\n",
    "        for j in range(length):\n",
    "            repeat += 1 if cipher[j]==cipher[(j+i)%length] else 0\n",
    "        shift.append(repeat)\n",
    "\n",
    "    for i in range(1, length//MAX_LEN_REP):\n",
    "        print('{0:2} '.format(i), end='')\n",
    "    print()\n",
    "    for i in range(1, length//MAX_LEN_REP):\n",
    "        print('{0:2} '.format(shift[i]), end='')\n",
    "    print()\n",
    "\n",
    "find_key_length(cipher)"
   ]
  },
  {
   "cell_type": "code",
   "execution_count": 13,
   "metadata": {},
   "outputs": [
    {
     "ename": "KeyError",
     "evalue": "'C'",
     "output_type": "error",
     "traceback": [
      "\u001b[0;31m---------------------------------------------------------------------------\u001b[0m",
      "\u001b[0;31mKeyError\u001b[0m                                  Traceback (most recent call last)",
      "\u001b[0;32m<ipython-input-13-e9726033d636>\u001b[0m in \u001b[0;36m<module>\u001b[0;34m\u001b[0m\n\u001b[1;32m     15\u001b[0m     \u001b[0mprint\u001b[0m\u001b[0;34m(\u001b[0m\u001b[0;34m)\u001b[0m\u001b[0;34m\u001b[0m\u001b[0;34m\u001b[0m\u001b[0m\n\u001b[1;32m     16\u001b[0m \u001b[0;34m\u001b[0m\u001b[0m\n\u001b[0;32m---> 17\u001b[0;31m \u001b[0mfrequency_analysis\u001b[0m\u001b[0;34m(\u001b[0m\u001b[0mcipher\u001b[0m\u001b[0;34m,\u001b[0m \u001b[0;36m3\u001b[0m\u001b[0;34m,\u001b[0m \u001b[0;36m0\u001b[0m\u001b[0;34m)\u001b[0m \u001b[0;31m#0, 1, 2\u001b[0m\u001b[0;34m\u001b[0m\u001b[0;34m\u001b[0m\u001b[0m\n\u001b[0m",
      "\u001b[0;32m<ipython-input-13-e9726033d636>\u001b[0m in \u001b[0;36mfrequency_analysis\u001b[0;34m(cipher, keyLen, k)\u001b[0m\n\u001b[1;32m      6\u001b[0m         \u001b[0mkeyDict\u001b[0m\u001b[0;34m[\u001b[0m\u001b[0mchr\u001b[0m\u001b[0;34m(\u001b[0m\u001b[0malpha\u001b[0m\u001b[0;34m)\u001b[0m\u001b[0;34m]\u001b[0m \u001b[0;34m=\u001b[0m \u001b[0;36m0\u001b[0m\u001b[0;34m\u001b[0m\u001b[0;34m\u001b[0m\u001b[0m\n\u001b[1;32m      7\u001b[0m     \u001b[0;32mfor\u001b[0m \u001b[0mi\u001b[0m \u001b[0;32min\u001b[0m \u001b[0mrange\u001b[0m\u001b[0;34m(\u001b[0m\u001b[0mlength\u001b[0m\u001b[0;34m)\u001b[0m\u001b[0;34m:\u001b[0m\u001b[0;34m\u001b[0m\u001b[0;34m\u001b[0m\u001b[0m\n\u001b[0;32m----> 8\u001b[0;31m         \u001b[0mkeyDict\u001b[0m\u001b[0;34m[\u001b[0m\u001b[0mcipher\u001b[0m\u001b[0;34m[\u001b[0m\u001b[0mi\u001b[0m\u001b[0;34m]\u001b[0m\u001b[0;34m]\u001b[0m \u001b[0;34m+=\u001b[0m \u001b[0;36m1\u001b[0m \u001b[0;32mif\u001b[0m \u001b[0mi\u001b[0m \u001b[0;34m%\u001b[0m \u001b[0mkeyLen\u001b[0m \u001b[0;34m==\u001b[0m \u001b[0mk\u001b[0m \u001b[0;32melse\u001b[0m \u001b[0;36m0\u001b[0m\u001b[0;34m\u001b[0m\u001b[0;34m\u001b[0m\u001b[0m\n\u001b[0m\u001b[1;32m      9\u001b[0m \u001b[0;34m\u001b[0m\u001b[0m\n\u001b[1;32m     10\u001b[0m     \u001b[0;32mfor\u001b[0m \u001b[0malpha\u001b[0m \u001b[0;32min\u001b[0m \u001b[0mrange\u001b[0m\u001b[0;34m(\u001b[0m\u001b[0mord\u001b[0m\u001b[0;34m(\u001b[0m\u001b[0;34m'a'\u001b[0m\u001b[0;34m)\u001b[0m\u001b[0;34m,\u001b[0m \u001b[0mord\u001b[0m\u001b[0;34m(\u001b[0m\u001b[0;34m'a'\u001b[0m\u001b[0;34m)\u001b[0m\u001b[0;34m+\u001b[0m\u001b[0;36m26\u001b[0m\u001b[0;34m)\u001b[0m\u001b[0;34m:\u001b[0m\u001b[0;34m\u001b[0m\u001b[0;34m\u001b[0m\u001b[0m\n",
      "\u001b[0;31mKeyError\u001b[0m: 'C'"
     ]
    }
   ],
   "source": [
    "def frequency_analysis(cipher, keyLen, k):\n",
    "    '''find the kth part alpha frequency, k in range(keyLen)'''\n",
    "    length = len(cipher)\n",
    "    keyDict = {}\n",
    "    for alpha in range(ord('a'), ord('a')+26):\n",
    "        keyDict[chr(alpha)] = 0\n",
    "    for i in range(length):\n",
    "        keyDict[cipher[i]] += 1 if i % keyLen == k else 0\n",
    "\n",
    "    for alpha in range(ord('a'), ord('a')+26):\n",
    "        print(' {0} '.format(chr(alpha)), end='')\n",
    "    print()\n",
    "    for alpha in range(ord('a'), ord('a')+26):\n",
    "        print('{0:2} '.format(keyDict[chr(alpha)]), end='')\n",
    "    print()\n",
    "\n",
    "frequency_analysis(cipher, 3, 0) #0, 1, 2"
   ]
  },
  {
   "cell_type": "code",
   "execution_count": 17,
   "metadata": {},
   "outputs": [
    {
     "name": "stdout",
     "output_type": "stream",
     "text": [
      "the key: jhxda\n",
      "the plainText:\n",
      " thjjezdtdruttunsyidcnvyadewenemmeavlejeivte\n"
     ]
    }
   ],
   "source": [
    "def virginiaCrack(cipherText): # 解密函数\n",
    "    length = getKeyLen(cipherText) #得到密钥长度\n",
    "    key = getKey(cipherText,length) #找到密钥\n",
    "    keyStr = ''\n",
    "    for k in key:\n",
    "        keyStr+=k\n",
    "    print('the key:',keyStr)\n",
    "    plainText = ''\n",
    "    index = 0\n",
    "    for ch in cipherText:\n",
    "        c = chr((ord(ch)-ord(key[index%length])+26)%26+97)  #字母的ascii值与对该位置加密的密钥字母，相对位移\n",
    "        plainText += c\n",
    "        index+=1\n",
    "    return plainText\n",
    "def openfile(fileName): # 读文件\n",
    "    file = open(fileName,'r')\n",
    "    text = file.read()\n",
    "    file.close();\n",
    "    text = text.replace('\\n','')\n",
    "    return text\n",
    "\n",
    "def getKeyLen(cipherText): # 获取密钥长度\n",
    "    keylength = 1\n",
    "    maxCount = 0\n",
    "    for step in range(3,10): # 循环密钥长度\n",
    "        count = 0\n",
    "        for i in range(len(cipherText)-step): #range(step,len(cipherText)-step):\n",
    "            if cipherText[i] == cipherText[i+step]:\n",
    "                 count += 1\n",
    "        if count>maxCount:\n",
    "            maxCount = count\n",
    "            keylength = step\n",
    "    return keylength\n",
    "\n",
    "def getKey(text,length): # 获取密钥\n",
    "    key = [] # 定义空白列表用来存密钥\n",
    "    alphaRate = [0.082, 0.015,0.028,0.043,0.127,\n",
    "              0.022,0.02,0.061,0.07,0.002,0.008,\n",
    "              0.04,0.024,0.067,0.075,0.019,0.001,\n",
    "              0.06,0.063,0.091,0.028,0.01,0.023,0.001,0.02,0.001]\n",
    "    #alphaRate =[0.08167,0.01492,0.02782,0.04253,0.12705,0.02228,0.02015,0.06094,0.06996,0.00153,0.00772,0.04025,0.02406,0.06749,0.07507,0.01929,0.0009,0.05987,0.06327,0.09056,0.02758,0.00978,0.02360,0.0015,0.01974,0.00074]\n",
    "    matrix =textToList(text,length)   #将明文按照密钥长度分组成二位列表\n",
    "    for i in range(length):\n",
    "        w = [row[i] for row in matrix] #获取每组密文中第i位的密文    这都是用同一个字母加密的\n",
    "        li = countList(w)    #计算里面的字母频率\n",
    "        powLi = [] #交互重合指数\n",
    "        for j in range(26):\n",
    "            Sum = 0.00000\n",
    "            for k in range(26):\n",
    "                Sum += alphaRate[k]*li[k]  #   Ic的值Sum[k] += alphaRate[k]*li[k+j] 的话  就不用后面的切片操作\n",
    "            powLi.append(Sum)\n",
    "            li = li[1:]+li[:1]#循环移位  向左移一位\n",
    "        Abs = 1\n",
    "        ch = ''\n",
    "        for j in range(len(powLi)):\n",
    "             if abs(powLi[j] -0.065546)<Abs: # 找出最接近英文字母重合指数的项\n",
    "                 Abs = abs(powLi[j] -0.065546) # 保存最接近的距离，作为下次比较的基准\n",
    "                 ch = chr(j+97)\n",
    "        key.append(ch)\n",
    "    return key\n",
    "\n",
    "def countList(lis): # 统计字母频率\n",
    "    li = []\n",
    "    alphabet = [chr(i) for i in range(97,123)]\n",
    "    for c in alphabet:\n",
    "        count = 0\n",
    "        for ch in lis:\n",
    "            if ch == c:\n",
    "                count+=1\n",
    "        li.append(count/len(lis))\n",
    "    return li        #返回字母表每个字母的出现概率\n",
    "\n",
    "def textToList(text,length): # 根据密钥长度将密文分组\n",
    "    textMatrix = []   #二维表  里面添加分组数个分组  每个分组中都是按照密钥加密的\n",
    "    row = []     #行  = 分组   每个row都是按照密钥加密的   长度为密钥的元素个数\n",
    "    index = 0    #从0开始\n",
    "    for ch in text:\n",
    "        row.append(ch)\n",
    "        index += 1\n",
    "        if index % length ==0:\n",
    "            textMatrix.append(row)\n",
    "            row = []\n",
    "    return textMatrix\n",
    "\n",
    "if __name__ == '__main__':\n",
    "    cipherText = openfile('C:/Users/Administrator/Desktop/研究生课件/EE5815安全技术tutorial exercise/xkju.txt') # 这里要根据文档目录的不同而改变\n",
    "    plainText= virginiaCrack(cipherText.lower())\n",
    "    print('the plainText:\\n',plainText)\n"
   ]
  }
 ],
 "metadata": {
  "kernelspec": {
   "display_name": "Python 3",
   "language": "python",
   "name": "python3"
  },
  "language_info": {
   "codemirror_mode": {
    "name": "ipython",
    "version": 3
   },
   "file_extension": ".py",
   "mimetype": "text/x-python",
   "name": "python",
   "nbconvert_exporter": "python",
   "pygments_lexer": "ipython3",
   "version": "3.7.7"
  }
 },
 "nbformat": 4,
 "nbformat_minor": 4
}
