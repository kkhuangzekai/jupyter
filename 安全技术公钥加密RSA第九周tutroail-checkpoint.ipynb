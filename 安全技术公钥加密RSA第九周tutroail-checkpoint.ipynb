{
 "cells": [
  {
   "cell_type": "code",
   "execution_count": 1,
   "metadata": {},
   "outputs": [
    {
     "data": {
      "text/plain": [
       "53"
      ]
     },
     "execution_count": 1,
     "metadata": {},
     "output_type": "execute_result"
    }
   ],
   "source": [
    "# list first 20 prime numbers\n",
    "primes_first_n(20)\n",
    "##[2, 3, 5, 7, 11, 13, 17, 19, 23, 29, 31, 37, 41, 43, 47, 53, 59, 61, 67, 71]\n",
    "# Find the gcd between 13 and 59\n",
    "gcd(13, 59)\n",
    "##1\n",
    "# Calculate Euler’s Totient Function\n",
    "euler_phi(20)\n",
    "##8\n",
    "# check if 2147483647 and 4951760154835678088235319297 are prime\n",
    "is_prime(2147483647)  #is_prime是SAGE的内置函数，而GET_PRIME得到一个素数要自己编写\n",
    "##True\n",
    "is_prime(4951760154835678088235319297)\n",
    "##False\n",
    "# find inverse of 17 mod 180\n",
    "17.inverse_mod(180) \n",
    "##53"
   ]
  },
  {
   "cell_type": "code",
   "execution_count": 11,
   "metadata": {},
   "outputs": [],
   "source": [
    "##exercise 2\n",
    "###N(log(9,2))=3.169"
   ]
  },
  {
   "cell_type": "code",
   "execution_count": 17,
   "metadata": {},
   "outputs": [
    {
     "data": {
      "text/plain": [
       "True"
      ]
     },
     "execution_count": 17,
     "metadata": {},
     "output_type": "execute_result"
    }
   ],
   "source": []
  },
  {
   "cell_type": "code",
   "execution_count": null,
   "metadata": {},
   "outputs": [],
   "source": []
  },
  {
   "cell_type": "code",
   "execution_count": 16,
   "metadata": {},
   "outputs": [
    {
     "data": {
      "text/plain": [
       "31"
      ]
     },
     "execution_count": 16,
     "metadata": {},
     "output_type": "execute_result"
    }
   ],
   "source": [
    "# 1. Random prime number generation:\n",
    "    # a.) Write a function to generate a random prime number of n-bits size. 编写一个函数来生成一个 n 位大小的随机素数。\n",
    "def get_prime(N):                          # N: the bit size of desired prime number\n",
    "\n",
    "    found = false\n",
    "\n",
    "    while not found:                                        \n",
    "        i = ZZ.random_element(2**(N-1), 2**N)         #生成随机数范围在2^n-1到2的n次方\n",
    "        if is_prime(i):\n",
    "            found = true\n",
    "    return i\n",
    "i = get_prime(5)  \n",
    "i                                     # 29: 11101\n",
    "#17"
   ]
  },
  {
   "cell_type": "code",
   "execution_count": 20,
   "metadata": {},
   "outputs": [
    {
     "data": {
      "text/plain": [
       "((13739216081853942250539217721503880658768863527308755672927385481173055938351087110502801033176654169054432692343114769098205304767787466772407499431764025377797687001447692666352282113130731023395265582357435300513779357937607604478147323268562007866204138853421725178416407434702482051642106886820681827307,\n",
       "  156788982789591089493782367545554252726996129427434575985537718796078286945258535654750177109136017769009436150710555836255299143664033614157540864574516468436570910598377223535575545894211215802907882328454425558904394896753824819670447393129934610422884014608672116639810857128029562974397098679937781706643),\n",
       " 27978827303109513385425834658072637451726502196431544437264958995452755117748764362710455007425144756451807224492392645801149329546924412969135970615845313720567646737308556561710419096559640456471389095554740535859367395674723706525984057601052030964225704105173364803218942258574108411027858758705569391603)"
      ]
     },
     "execution_count": 20,
     "metadata": {},
     "output_type": "execute_result"
    }
   ],
   "source": [
    "\n",
    "# 2. Key generation:\n",
    "    # a.) Given p=2147483647, q=137438953471, find a suitable value for the public exponent (e)为公共指数 (e) 找到一个合适的值\n",
    "p=2147483647\n",
    "q=137438953471\n",
    "n = p * q\n",
    "n\n",
    "\n",
    "##295147905039766388737\n",
    "phi = (p - 1)*(q - 1)                     # calculate: phi = ø(n)\n",
    "e = ZZ.random_element(phi)\n",
    "while gcd(e, phi) != 1:                   # gcd(e,phi) = 1\n",
    "    e = ZZ.random_element(phi)\n",
    "e\n",
    "## 60064238725073608369\n",
    "\n",
    "\n",
    "e < phi                                   # is e less than ø(n)?\n",
    "## True\n",
    "\n",
    "    # b.) What is corresponding values of the private exponent 什么是私有钥匙的对应值 (d) in a.)\n",
    "d = e.inverse_mod(phi)                 \n",
    "d\n",
    "222057740131187707069\n",
    "mod(d * e, phi)                             # check: de mod ø(n) = 1\n",
    "\n",
    "#1\n",
    "\n",
    "\n",
    "    # c.) Generate RSA key of size 10,1024,and 2048. Provide the public and private keys for the 1024-bits key-size\n",
    "    #生成大小为 10、1024 和 2048 的 RSA 密钥。提供 1024 位密钥大小的公钥和私钥\n",
    "def get_prime(N):                          # N: the bit size of desired prime number\n",
    "\n",
    "    found = false\n",
    "\n",
    "    while not found:                                        \n",
    "        i = ZZ.random_element(2**(N-1), 2**N)\n",
    "        if is_prime(i):\n",
    "            found = true\n",
    "    return i\n",
    "def generate_RSA_key(N):                    # generate n, p, q\n",
    "    n = 0\n",
    "    while n.nbits() != N:                      #产生秘钥的第一步是找到p,q两个素数，再令p*q=n同时作为公开钥匙和私密钥匙\n",
    "        p = get_prime((N//2))\n",
    "        q = get_prime((N//2))\n",
    "        n = p*q\n",
    "    return (n, p, q)\n",
    "def get_RSA_key_pair(N):                     # generate public key and private key\n",
    "\n",
    "    (n, p, q)=generate_RSA_key(N)                #产生p,q后我们就能得到PHI，对小于PHI的条件下随机取数得到公开钥匙e\n",
    "    phi = (p-1)*(q-1)\n",
    "\n",
    "    ## generate e      \n",
    "\n",
    "    e = ZZ.random_element(phi)\n",
    "    while gcd(e, phi) != 1:\n",
    "        e = ZZ.random_element(phi)\n",
    "\n",
    "    ## compute d       对phi取e的逆元得到私密钥匙d\n",
    "    d = e.inverse_mod(phi)\n",
    "\n",
    "    priv_key = d\n",
    "    pub_key = (e,n)\n",
    "\n",
    "    return (pub_key, priv_key)\n",
    "(e,n),d =get_RSA_key_pair(1024)   #生成1024位二进制bianary大小的公钥和私钥，这里输出的是10进制，位数肯定少于1024\n",
    "(e,n),d"
   ]
  },
  {
   "cell_type": "code",
   "execution_count": 21,
   "metadata": {},
   "outputs": [
    {
     "name": "stdout",
     "output_type": "stream",
     "text": [
      "847273836779858283697383838769698482\n"
     ]
    },
    {
     "data": {
      "text/plain": [
       "'THISCOURSEISSWEETR'"
      ]
     },
     "execution_count": 21,
     "metadata": {},
     "output_type": "execute_result"
    }
   ],
   "source": [
    "# 3. Message Preparation:\n",
    "    # a.) 将明文 'THISCOURSEISSWEET' 字母转换为等效的 ascii 十进制，A=0,B=1\n",
    "def string2dec(s):                                 # convert message to dec equivalent unicode\n",
    "    s = [ord(x) for x in s]\n",
    "    dec = ZZ(list(reversed(s)), 100);\n",
    "    return dec\n",
    "def dec2string(dec):                               # 把数字转回字母\n",
    "    s=\"\"\n",
    "    k=str(dec)\n",
    "    for i in range(0, len(k),2):\n",
    "        s+=chr(int(k[i]+k[i+1]))\n",
    "    return s\n",
    "s = \"THISCOURSEISSWEET\"\n",
    "dec_uni=string2dec(s)\n",
    "print(dec_uni)\n",
    "##8472738367798582836973838387696984\n",
    "plaintext = dec2string(dec_uni)\n",
    "plaintext"
   ]
  },
  {
   "cell_type": "code",
   "execution_count": 6,
   "metadata": {},
   "outputs": [],
   "source": [
    "##   练习3"
   ]
  },
  {
   "cell_type": "code",
   "execution_count": 23,
   "metadata": {},
   "outputs": [
    {
     "name": "stdout",
     "output_type": "stream",
     "text": [
      "Alice's public key = (141, 187)\n",
      "Alice's privatekey = 101\n"
     ]
    },
    {
     "data": {
      "text/plain": [
       "True"
      ]
     },
     "execution_count": 23,
     "metadata": {},
     "output_type": "execute_result"
    }
   ],
   "source": [
    "# 1.\n",
    "    # a.) Calculate public and private keys when p=17 and q=11，计算 p=17 和 q=11 时的公钥和私钥\n",
    "p=17 \n",
    "q=11 \n",
    "n=p*q\n",
    "phi=(p-1)*(q-1)\n",
    "e = ZZ.random_element(phi)\n",
    "while gcd(e, phi) != 1:\n",
    "    e = ZZ.random_element(phi)\n",
    "d = e.inverse_mod(phi)\n",
    "public_key = (e, n)\n",
    "private_key = d\n",
    "print(\"Alice's public key =\", public_key)\n",
    "print(\"Alice's privatekey =\", private_key)\n",
    "#Alice's public key = (71, 187)\n",
    "#Alice's privatekey = 151\n",
    "\n",
    "\n",
    "    # b.) Get the sms message received by Alice when the PIN number is 88：获取 PIN 码为 88 时 Alice 收到的短信\n",
    "PIN=88\n",
    "ciphertext = power_mod(PIN, e, n)            #（PIN的e次方mod n就得到了明文）\n",
    "ciphertext\n",
    "#11\n",
    "\n",
    "\n",
    "    # c.) Confirmation\n",
    "plaintext = power_mod(ciphertext, d, n)     \n",
    "plaintext\n",
    "#88                                 #（验证方法：明文的公钥d次方mod n是否得到了PIN）\n",
    "plaintext == PIN\n",
    "#True\n",
    "\n",
    "\n",
    "# 2.\n",
    "    # a.) Encrypt the plaintext P=\"THISCOURSEISSWEET\" with the public key (e,n) of RSA\n",
    "def string2dec(s):\n",
    "    s = [ord(x) for x in s]\n",
    "    dec = ZZ(list(reversed(s)), 100);\n",
    "    return dec\n",
    "def dec2string(dec):\n",
    "    s=\"\"\n",
    "    k=str(dec)\n",
    "    for i in range(0, len(k),2):\n",
    "        s+=chr(int(k[i]+k[i+1]))\n",
    "    return s\n",
    "P=\"THISCOURSEISSWEET\" \n",
    "e=64255123840400920899027594472669379991947555233276781048024250446814302724731106766756339951840237250101891004978212772044383279733379388530493970046211716642208132967525408001754737474165048819205940814225563670212428223096158964837385053632266056026180373587399129459500483194485061624816719090524042421763\n",
    "n=97317137949299047329422751336372219280650918523616703697935791230362792144624081367345766809355055092002612176057390521301555357528750568302355710548072008293590338833400582094378987467323239514677249799942761914148058633598699435756505298231622102909631623964850403359198735122550801625741661325980099678879\n",
    "plaintext = string2dec(P)\n",
    "##  plaintext\n",
    "##  8472738367798582836973838387696984   \n",
    "ciphertext = power_mod(plaintext, e, n)     #明文的私钥次方 mod 共同钥 =密文\n",
    "## ciphertext\n",
    "## 45802885872367657549213178380006301502138720370213810531132025668005540883787882774946139136181409067259858049117360643127831821207406493759858753338563689190380814363291261529979642104897059794938648015368095497654619656703595179296045321636341472406497303938729706422733188523020840238932171954010584687880\n",
    "\n",
    "\n",
    "# b.) Decrypt back the ciphertext in a.)\n",
    "d=38628517638999333063216959102132463426514345770457464811914738192908607073140435869189633977768965549270823189579079802564639670293889500507465958035425848348439059951225925511151287285978292921440075521027353133263853532819549925542203782016026084991222393450728182950755020367214717128389736568387727954523\n",
    "plaintext = power_mod(ciphertext, d, n)  #密文的公钥次方 mod 共同钥 =明文\n",
    "# plaintext\n",
    "## 8472738367798582836973838387696984\n",
    "dec2string(plaintext)\n",
    "##  'THISCOURSEISSWEET'\n",
    "\n",
    "# 3.   写个黑客程序攻破CANVAS分数统计给我加分\n",
    "    # a.)\n",
    "e=17\n",
    "n=209\n",
    "ciphertext=178\n",
    "C_2M =mod(((2**e)*(ciphertext)), n)             # RSA's malleability 延展性 E(2*M)=(2**e)E(M)\n",
    "C_2M\n",
    "#146                                             # RSA's 推广延展性 E(n*M)=(n**e)E(M)\n",
    "\n",
    "    # b.)\n",
    "d=53\n",
    "M = power_mod(ciphertext, d, n)\n",
    "M\n",
    "##30 为原本的明文\n",
    "\n",
    "\n",
    "M_new = power_mod(C_2M, d, n)\n",
    "M_new\n",
    "##60\n",
    "\n",
    "\n",
    "M_new == (2*M)                                 # 检查编写结果 M_new=2M"
   ]
  },
  {
   "cell_type": "code",
   "execution_count": 25,
   "metadata": {},
   "outputs": [
    {
     "data": {
      "text/plain": [
       "30"
      ]
     },
     "execution_count": 25,
     "metadata": {},
     "output_type": "execute_result"
    }
   ],
   "source": []
  },
  {
   "cell_type": "code",
   "execution_count": null,
   "metadata": {},
   "outputs": [],
   "source": []
  },
  {
   "cell_type": "code",
   "execution_count": null,
   "metadata": {},
   "outputs": [],
   "source": []
  },
  {
   "cell_type": "code",
   "execution_count": 8,
   "metadata": {
    "scrolled": true
   },
   "outputs": [
    {
     "name": "stdout",
     "output_type": "stream",
     "text": [
      "b'553246736447566b583139657273374776434d534645314475346647494445623636616a45636e58322b493d'\n",
      "b'U2FsdGVkX19ers7GvCMSFE1Du4fGIDEb66ajEcnX2+I='\n",
      "b'553246736447566b583139657273374776434d534645314475346647494445623636616a45636e58322b493d'\n",
      "b'U2FsdGVkX19ers7GvCMSFE1Du4fGIDEb66ajEcnX2+I='\n"
     ]
    }
   ],
   "source": [
    "import binascii\n",
    "\n",
    "a = b'U2FsdGVkX19ers7GvCMSFE1Du4fGIDEb66ajEcnX2+I='\n",
    "#先把worker转换成二进制数据然后在用十六进制表示\n",
    "b = binascii.b2a_hex(a)\n",
    "print(b)\n",
    "#与b2a_hex相反\n",
    "print(binascii.a2b_hex(b))\n",
    "#这个功能和b2a_hex()一样\n",
    "c = binascii.hexlify(a)\n",
    "print(c)\n",
    "#这个功能和a2b_hex()一样\n",
    "print(binascii.unhexlify(c))\n"
   ]
  },
  {
   "cell_type": "code",
   "execution_count": null,
   "metadata": {},
   "outputs": [],
   "source": []
  },
  {
   "cell_type": "code",
   "execution_count": null,
   "metadata": {},
   "outputs": [],
   "source": []
  }
 ],
 "metadata": {
  "kernelspec": {
   "display_name": "SageMath 9.2",
   "language": "sage",
   "name": "sagemath"
  },
  "language_info": {
   "codemirror_mode": {
    "name": "ipython",
    "version": 3
   },
   "file_extension": ".py",
   "mimetype": "text/x-python",
   "name": "python",
   "nbconvert_exporter": "python",
   "pygments_lexer": "ipython3",
   "version": "3.7.7"
  }
 },
 "nbformat": 4,
 "nbformat_minor": 4
}
